{
 "cells": [
  {
   "cell_type": "markdown",
   "id": "c45d2287",
   "metadata": {},
   "source": [
    "## Capstone 1\n",
    "### By Priya Sharma\n",
    "### PGA 23"
   ]
  },
  {
   "cell_type": "markdown",
   "id": "9e9561c3",
   "metadata": {},
   "source": [
    "### Importing Libraries"
   ]
  },
  {
   "cell_type": "code",
   "execution_count": 1,
   "id": "f0d79f4a",
   "metadata": {},
   "outputs": [],
   "source": [
    "import numpy as np\n",
    "import pandas as pd\n",
    "import matplotlib.pyplot as plt\n",
    "from sklearn.model_selection import train_test_split\n",
    "from sklearn.metrics import confusion_matrix,classification_report\n",
    "import seaborn as sns\n",
    "from sklearn.linear_model import LogisticRegression\n",
    "from sklearn.tree import DecisionTreeRegressor\n",
    "from sklearn.ensemble import RandomForestClassifier,AdaBoostClassifier\n",
    "from sklearn.neighbors import KNeighborsClassifier\n",
    "from xgboost import XGBClassifier"
   ]
  },
  {
   "cell_type": "code",
   "execution_count": 2,
   "id": "9dd961b5",
   "metadata": {},
   "outputs": [
    {
     "data": {
      "text/html": [
       "<div>\n",
       "<style scoped>\n",
       "    .dataframe tbody tr th:only-of-type {\n",
       "        vertical-align: middle;\n",
       "    }\n",
       "\n",
       "    .dataframe tbody tr th {\n",
       "        vertical-align: top;\n",
       "    }\n",
       "\n",
       "    .dataframe thead th {\n",
       "        text-align: right;\n",
       "    }\n",
       "</style>\n",
       "<table border=\"1\" class=\"dataframe\">\n",
       "  <thead>\n",
       "    <tr style=\"text-align: right;\">\n",
       "      <th></th>\n",
       "      <th>Title</th>\n",
       "      <th>Location</th>\n",
       "      <th>Area</th>\n",
       "      <th>Status</th>\n",
       "      <th>Price</th>\n",
       "      <th>Year</th>\n",
       "      <th>Bathroom</th>\n",
       "      <th>District</th>\n",
       "    </tr>\n",
       "  </thead>\n",
       "  <tbody>\n",
       "    <tr>\n",
       "      <th>0</th>\n",
       "      <td>4 BHK Independent Floor</td>\n",
       "      <td>Neeti Bagh, Delhi</td>\n",
       "      <td>2925.0</td>\n",
       "      <td>Ready to move</td>\n",
       "      <td>8.50</td>\n",
       "      <td>NaN</td>\n",
       "      <td>NaN</td>\n",
       "      <td>South/West/Central Delhi</td>\n",
       "    </tr>\n",
       "    <tr>\n",
       "      <th>1</th>\n",
       "      <td>1 BHK Apartment</td>\n",
       "      <td>Khera Khurd, Delhi</td>\n",
       "      <td>450.0</td>\n",
       "      <td>Ready to move</td>\n",
       "      <td>9.50</td>\n",
       "      <td>NaN</td>\n",
       "      <td>NaN</td>\n",
       "      <td>South/West/Central Delhi</td>\n",
       "    </tr>\n",
       "    <tr>\n",
       "      <th>2</th>\n",
       "      <td>3 BHK Independent Floor</td>\n",
       "      <td>Paschim Vihar, Delhi</td>\n",
       "      <td>1620.0</td>\n",
       "      <td>Ready to move</td>\n",
       "      <td>2.35</td>\n",
       "      <td>NaN</td>\n",
       "      <td>NaN</td>\n",
       "      <td>South/West/Central Delhi</td>\n",
       "    </tr>\n",
       "    <tr>\n",
       "      <th>3</th>\n",
       "      <td>3 BHK Independent Floor</td>\n",
       "      <td>Paschim Vihar, Delhi</td>\n",
       "      <td>1620.0</td>\n",
       "      <td>Ready to move</td>\n",
       "      <td>2.40</td>\n",
       "      <td>NaN</td>\n",
       "      <td>NaN</td>\n",
       "      <td>South/West/Central Delhi</td>\n",
       "    </tr>\n",
       "    <tr>\n",
       "      <th>4</th>\n",
       "      <td>4 BHK Independent Floor</td>\n",
       "      <td>Paschim Vihar, Delhi</td>\n",
       "      <td>2250.0</td>\n",
       "      <td>Ready to move</td>\n",
       "      <td>2.35</td>\n",
       "      <td>NaN</td>\n",
       "      <td>NaN</td>\n",
       "      <td>South/West/Central Delhi</td>\n",
       "    </tr>\n",
       "  </tbody>\n",
       "</table>\n",
       "</div>"
      ],
      "text/plain": [
       "                     Title              Location    Area         Status  \\\n",
       "0  4 BHK Independent Floor     Neeti Bagh, Delhi  2925.0  Ready to move   \n",
       "1          1 BHK Apartment    Khera Khurd, Delhi   450.0  Ready to move   \n",
       "2  3 BHK Independent Floor  Paschim Vihar, Delhi  1620.0  Ready to move   \n",
       "3  3 BHK Independent Floor  Paschim Vihar, Delhi  1620.0  Ready to move   \n",
       "4  4 BHK Independent Floor  Paschim Vihar, Delhi  2250.0  Ready to move   \n",
       "\n",
       "   Price Year Bathroom                  District  \n",
       "0   8.50  NaN      NaN  South/West/Central Delhi  \n",
       "1   9.50  NaN      NaN  South/West/Central Delhi  \n",
       "2   2.35  NaN      NaN  South/West/Central Delhi  \n",
       "3   2.40  NaN      NaN  South/West/Central Delhi  \n",
       "4   2.35  NaN      NaN  South/West/Central Delhi  "
      ]
     },
     "execution_count": 2,
     "metadata": {},
     "output_type": "execute_result"
    }
   ],
   "source": [
    "df=pd.read_csv(\"Cleaned_Makaan.com_Data.csv\")\n",
    "df.head()"
   ]
  },
  {
   "cell_type": "code",
   "execution_count": 3,
   "id": "103746f3",
   "metadata": {},
   "outputs": [
    {
     "data": {
      "text/plain": [
       "(1200, 8)"
      ]
     },
     "execution_count": 3,
     "metadata": {},
     "output_type": "execute_result"
    }
   ],
   "source": [
    "df.shape"
   ]
  },
  {
   "cell_type": "code",
   "execution_count": 4,
   "id": "2c140760",
   "metadata": {},
   "outputs": [
    {
     "name": "stdout",
     "output_type": "stream",
     "text": [
      "<class 'pandas.core.frame.DataFrame'>\n",
      "RangeIndex: 1200 entries, 0 to 1199\n",
      "Data columns (total 8 columns):\n",
      " #   Column    Non-Null Count  Dtype  \n",
      "---  ------    --------------  -----  \n",
      " 0   Title     1180 non-null   object \n",
      " 1   Location  520 non-null    object \n",
      " 2   Area      1160 non-null   float64\n",
      " 3   Status    1180 non-null   object \n",
      " 4   Price     1200 non-null   float64\n",
      " 5   Year      20 non-null     object \n",
      " 6   Bathroom  340 non-null    object \n",
      " 7   District  1200 non-null   object \n",
      "dtypes: float64(2), object(6)\n",
      "memory usage: 75.1+ KB\n"
     ]
    }
   ],
   "source": [
    "df.info()"
   ]
  },
  {
   "cell_type": "markdown",
   "id": "35ef5b8d",
   "metadata": {},
   "source": [
    "### Duplicate Values Check"
   ]
  },
  {
   "cell_type": "code",
   "execution_count": 5,
   "id": "7d5258fd",
   "metadata": {},
   "outputs": [
    {
     "data": {
      "text/plain": [
       "84"
      ]
     },
     "execution_count": 5,
     "metadata": {},
     "output_type": "execute_result"
    }
   ],
   "source": [
    "df.duplicated().sum()"
   ]
  },
  {
   "cell_type": "markdown",
   "id": "659da4e7",
   "metadata": {},
   "source": [
    "### Dropping Duplicate Rows"
   ]
  },
  {
   "cell_type": "code",
   "execution_count": 6,
   "id": "0fc48ecc",
   "metadata": {},
   "outputs": [
    {
     "data": {
      "text/plain": [
       "0"
      ]
     },
     "execution_count": 6,
     "metadata": {},
     "output_type": "execute_result"
    }
   ],
   "source": [
    "df.drop_duplicates(inplace=True)\n",
    "df.duplicated().sum()"
   ]
  },
  {
   "cell_type": "code",
   "execution_count": 7,
   "id": "bc782216",
   "metadata": {},
   "outputs": [
    {
     "data": {
      "text/plain": [
       "(1116, 8)"
      ]
     },
     "execution_count": 7,
     "metadata": {},
     "output_type": "execute_result"
    }
   ],
   "source": [
    "df.shape"
   ]
  },
  {
   "cell_type": "markdown",
   "id": "d7ceedf6",
   "metadata": {},
   "source": [
    "### Null Value Check"
   ]
  },
  {
   "cell_type": "code",
   "execution_count": 8,
   "id": "3f511738",
   "metadata": {},
   "outputs": [
    {
     "data": {
      "text/plain": [
       "Title         20\n",
       "Location     623\n",
       "Area          39\n",
       "Status        20\n",
       "Price          0\n",
       "Year        1096\n",
       "Bathroom     782\n",
       "District       0\n",
       "dtype: int64"
      ]
     },
     "execution_count": 8,
     "metadata": {},
     "output_type": "execute_result"
    }
   ],
   "source": [
    "df.isnull().sum()"
   ]
  },
  {
   "cell_type": "markdown",
   "id": "b7355129",
   "metadata": {},
   "source": [
    "### Dropping Columns with more than 40% Null Values "
   ]
  },
  {
   "cell_type": "code",
   "execution_count": 9,
   "id": "62779ad2",
   "metadata": {},
   "outputs": [
    {
     "data": {
      "text/plain": [
       "Title       20\n",
       "Area        39\n",
       "Status      20\n",
       "Price        0\n",
       "District     0\n",
       "dtype: int64"
      ]
     },
     "execution_count": 9,
     "metadata": {},
     "output_type": "execute_result"
    }
   ],
   "source": [
    "df.drop(columns=[\"Location\",\"Year\",\"Bathroom\"],inplace=True)\n",
    "df.isnull().sum()"
   ]
  },
  {
   "cell_type": "code",
   "execution_count": 10,
   "id": "0011fba8",
   "metadata": {},
   "outputs": [
    {
     "data": {
      "text/plain": [
       "Title        object\n",
       "Area        float64\n",
       "Status       object\n",
       "Price       float64\n",
       "District     object\n",
       "dtype: object"
      ]
     },
     "execution_count": 10,
     "metadata": {},
     "output_type": "execute_result"
    }
   ],
   "source": [
    "df.dtypes"
   ]
  },
  {
   "cell_type": "markdown",
   "id": "6f9d8b41",
   "metadata": {},
   "source": [
    "### Imputing Null Values"
   ]
  },
  {
   "cell_type": "code",
   "execution_count": 11,
   "id": "bc77a7e8",
   "metadata": {},
   "outputs": [],
   "source": [
    "df[\"Title\"]=df[\"Title\"].fillna(df[\"Title\"].mode()[0])\n",
    "df[\"Area\"]=df[\"Area\"].fillna(df[\"Area\"].mean())\n",
    "df[\"Status\"]=df[\"Status\"].fillna(df[\"Status\"].mode()[0])"
   ]
  },
  {
   "cell_type": "code",
   "execution_count": 12,
   "id": "2dc086f3",
   "metadata": {},
   "outputs": [
    {
     "data": {
      "text/plain": [
       "Title       0\n",
       "Area        0\n",
       "Status      0\n",
       "Price       0\n",
       "District    0\n",
       "dtype: int64"
      ]
     },
     "execution_count": 12,
     "metadata": {},
     "output_type": "execute_result"
    }
   ],
   "source": [
    "df.isnull().sum()"
   ]
  },
  {
   "cell_type": "markdown",
   "id": "908aa687",
   "metadata": {},
   "source": [
    "### Value Count of Object data type"
   ]
  },
  {
   "cell_type": "code",
   "execution_count": 13,
   "id": "624ef562",
   "metadata": {},
   "outputs": [
    {
     "data": {
      "text/plain": [
       "3 BHK Apartment             316\n",
       "3 BHK Independent Floor     207\n",
       "2 BHK Independent Floor     152\n",
       "2 BHK Apartment             130\n",
       "4 BHK Apartment             109\n",
       "4 BHK Independent Floor      84\n",
       "1 BHK Apartment              29\n",
       "1 BHK Independent Floor      26\n",
       "Residential Plot             23\n",
       "3 BHK Independent House       8\n",
       "5 BHK Apartment               7\n",
       "2 BHK Independent House       5\n",
       "5 BHK Independent Floor       4\n",
       "1 BHK Independent House       4\n",
       "1 RK Studio Apartment         3\n",
       "7 BHK Independent House       2\n",
       "1 BHK Apartment               1\n",
       "4 BHK Villa                   1\n",
       "9 BHK Independent House       1\n",
       "10 BHK Independent House      1\n",
       "6 BHK Independent House       1\n",
       "4 BHK Independent             1\n",
       "8 BHK Apartment               1\n",
       "Name: Title, dtype: int64"
      ]
     },
     "execution_count": 13,
     "metadata": {},
     "output_type": "execute_result"
    }
   ],
   "source": [
    "df[\"Title\"].value_counts()"
   ]
  },
  {
   "cell_type": "code",
   "execution_count": 14,
   "id": "4d505713",
   "metadata": {},
   "outputs": [
    {
     "data": {
      "text/plain": [
       "Ready to move         1000\n",
       "Under Construction      93\n",
       "Resale                  16\n",
       "New                      7\n",
       "Name: Status, dtype: int64"
      ]
     },
     "execution_count": 14,
     "metadata": {},
     "output_type": "execute_result"
    }
   ],
   "source": [
    "df[\"Status\"].value_counts()"
   ]
  },
  {
   "cell_type": "code",
   "execution_count": 15,
   "id": "831b5910",
   "metadata": {},
   "outputs": [
    {
     "data": {
      "text/plain": [
       "South/West/Central Delhi    717\n",
       "South-West Delhi            399\n",
       "Name: District, dtype: int64"
      ]
     },
     "execution_count": 15,
     "metadata": {},
     "output_type": "execute_result"
    }
   ],
   "source": [
    "df[\"District\"].value_counts()"
   ]
  },
  {
   "cell_type": "code",
   "execution_count": 16,
   "id": "79315b34",
   "metadata": {},
   "outputs": [
    {
     "data": {
      "text/plain": [
       "(1116, 5)"
      ]
     },
     "execution_count": 16,
     "metadata": {},
     "output_type": "execute_result"
    }
   ],
   "source": [
    "df.shape"
   ]
  },
  {
   "cell_type": "code",
   "execution_count": 17,
   "id": "4812c862",
   "metadata": {},
   "outputs": [
    {
     "data": {
      "text/plain": [
       "Index(['Title', 'Status', 'District'], dtype='object')"
      ]
     },
     "execution_count": 17,
     "metadata": {},
     "output_type": "execute_result"
    }
   ],
   "source": [
    "cat_cols=df.dtypes[df.dtypes==\"object\"].index\n",
    "cat_cols"
   ]
  },
  {
   "cell_type": "code",
   "execution_count": 18,
   "id": "f7d12d5f",
   "metadata": {},
   "outputs": [
    {
     "data": {
      "text/plain": [
       "Index(['Area', 'Price'], dtype='object')"
      ]
     },
     "execution_count": 18,
     "metadata": {},
     "output_type": "execute_result"
    }
   ],
   "source": [
    "num_cols=df.dtypes[df.dtypes!=\"object\"].index\n",
    "num_cols"
   ]
  },
  {
   "cell_type": "markdown",
   "id": "e3480047",
   "metadata": {},
   "source": [
    "### Bivariate Analysis"
   ]
  },
  {
   "cell_type": "markdown",
   "id": "132de1f5",
   "metadata": {},
   "source": [
    "#### Inferences : \n",
    "* There is no linear relationship between Area and Price, inconclusive.\n",
    "* 'Ready to move' category is in majority while 'New' category is in minority."
   ]
  },
  {
   "cell_type": "code",
   "execution_count": 62,
   "id": "130a33ed",
   "metadata": {},
   "outputs": [
    {
     "data": {
      "image/png": "[encoded data removed]",
      "text/plain": [
       "<Figure size 432x288 with 1 Axes>"
      ]
     },
     "metadata": {
      "needs_background": "light"
     },
     "output_type": "display_data"
    }
   ],
   "source": [
    "sns.scatterplot(data=df,y=\"Area\",x=\"Price\",hue=\"Status\")\n",
    "plt.rc('ytick', labelsize=7)\n",
    "plt.show()"
   ]
  },
  {
   "cell_type": "markdown",
   "id": "d3c4f842",
   "metadata": {},
   "source": [
    "#### Inferences : \n",
    "* 'New' category is least priced(In Lakhs).\n",
    "* 'Ready to move' and 'Resale' categories are highly priced(In Crores).\n",
    "* 'Under Construction' category is moderately priced."
   ]
  },
  {
   "cell_type": "code",
   "execution_count": 20,
   "id": "fe083843",
   "metadata": {},
   "outputs": [
    {
     "data": {
      "image/png": "[encoded data removed]",
      "text/plain": [
       "<Figure size 432x288 with 1 Axes>"
      ]
     },
     "metadata": {
      "needs_background": "light"
     },
     "output_type": "display_data"
    }
   ],
   "source": [
    "sns.barplot(data=df,y=\"Price\", x=\"Status\")\n",
    "plt.rc('ytick', labelsize=2)\n",
    "plt.xticks(rotation=90)\n",
    "plt.show()"
   ]
  },
  {
   "cell_type": "markdown",
   "id": "48642b61",
   "metadata": {},
   "source": [
    "#### Inferences :\n",
    "* South/West/Central Delhi are the most expensive districts in terms of house prices.\n",
    "* South-West Delhi seems like a sub-urban District since the house prices are considerably less."
   ]
  },
  {
   "cell_type": "code",
   "execution_count": 23,
   "id": "60777f9f",
   "metadata": {},
   "outputs": [
    {
     "data": {
      "image/png": "[encoded data removed]",
      "text/plain": [
       "<Figure size 432x288 with 1 Axes>"
      ]
     },
     "metadata": {
      "needs_background": "light"
     },
     "output_type": "display_data"
    }
   ],
   "source": [
    "sns.barplot(data=df,y=\"Price\", x=\"District\")\n",
    "plt.rc('ytick', labelsize=16)\n",
    "plt.xticks(rotation=90)\n",
    "plt.show()"
   ]
  },
  {
   "cell_type": "markdown",
   "id": "ba7b2a72",
   "metadata": {},
   "source": [
    "#### Inferences : \n",
    "* 4 and 5 BHK Floors/Apartments are most priced.\n",
    "* 1 and 2 BHK Floors/Apartments are least priced."
   ]
  },
  {
   "cell_type": "code",
   "execution_count": 26,
   "id": "6f10707c",
   "metadata": {},
   "outputs": [
    {
     "data": {
      "image/png": "[encoded data removed]",
      "text/plain": [
       "<Figure size 432x288 with 1 Axes>"
      ]
     },
     "metadata": {
      "needs_background": "light"
     },
     "output_type": "display_data"
    }
   ],
   "source": [
    "sns.barplot(data=df,y=\"Price\", x=\"Title\")\n",
    "plt.rc('ytick', labelsize=5)\n",
    "plt.xticks(rotation=90)\n",
    "plt.show()"
   ]
  },
  {
   "cell_type": "markdown",
   "id": "4b760881",
   "metadata": {},
   "source": [
    "#### Clustered Barplot between Price and District, grouped with Status"
   ]
  },
  {
   "cell_type": "code",
   "execution_count": 65,
   "id": "5db6340b",
   "metadata": {},
   "outputs": [
    {
     "data": {
      "image/png": "[encoded data removed]",
      "text/plain": [
       "<Figure size 432x288 with 1 Axes>"
      ]
     },
     "metadata": {
      "needs_background": "light"
     },
     "output_type": "display_data"
    }
   ],
   "source": [
    "sns.barplot(data=df, x=\"District\", y=\"Price\", hue=\"Status\")\n",
    "plt.show()"
   ]
  },
  {
   "cell_type": "markdown",
   "id": "9a775f21",
   "metadata": {},
   "source": [
    "#### Clustered Barplot between Price and Status, grouped with District"
   ]
  },
  {
   "cell_type": "code",
   "execution_count": 66,
   "id": "0d6d7818",
   "metadata": {},
   "outputs": [
    {
     "data": {
      "image/png": "[encoded data removed]",
      "text/plain": [
       "<Figure size 432x288 with 1 Axes>"
      ]
     },
     "metadata": {
      "needs_background": "light"
     },
     "output_type": "display_data"
    }
   ],
   "source": [
    "sns.barplot(data=df, x=\"Status\", y=\"Price\", hue=\"District\")\n",
    "plt.xticks(rotation=90)\n",
    "plt.show()"
   ]
  },
  {
   "cell_type": "markdown",
   "id": "ce98b085",
   "metadata": {},
   "source": [
    "### Univariate Analysis\n",
    "#### Countplots of categorical columns"
   ]
  },
  {
   "cell_type": "code",
   "execution_count": 67,
   "id": "ad461779",
   "metadata": {},
   "outputs": [
    {
     "data": {
      "image/png": "[encoded data removed]",
      "text/plain": [
       "<Figure size 432x288 with 1 Axes>"
      ]
     },
     "metadata": {
      "needs_background": "light"
     },
     "output_type": "display_data"
    },
    {
     "data": {
      "image/png": "[encoded data removed]",
      "text/plain": [
       "<Figure size 432x288 with 1 Axes>"
      ]
     },
     "metadata": {
      "needs_background": "light"
     },
     "output_type": "display_data"
    },
    {
     "data": {
      "image/png": "[encoded data removed]",
      "text/plain": [
       "<Figure size 432x288 with 1 Axes>"
      ]
     },
     "metadata": {
      "needs_background": "light"
     },
     "output_type": "display_data"
    }
   ],
   "source": [
    "for i in cat_cols:\n",
    "    sns.countplot(x=df[i])\n",
    "    plt.rc('ytick', labelsize=5)\n",
    "    plt.xticks(rotation=90)\n",
    "    plt.show()"
   ]
  },
  {
   "cell_type": "markdown",
   "id": "e191d81a",
   "metadata": {},
   "source": [
    "### Checking for outliers \n",
    "* We have outliers on the upper bound."
   ]
  },
  {
   "cell_type": "code",
   "execution_count": 68,
   "id": "2edc9602",
   "metadata": {},
   "outputs": [
    {
     "data": {
      "image/png": "[encoded data removed]",
      "text/plain": [
       "<Figure size 432x288 with 1 Axes>"
      ]
     },
     "metadata": {
      "needs_background": "light"
     },
     "output_type": "display_data"
    },
    {
     "data": {
      "image/png": "[encoded data removed]",
      "text/plain": [
       "<Figure size 432x288 with 1 Axes>"
      ]
     },
     "metadata": {
      "needs_background": "light"
     },
     "output_type": "display_data"
    }
   ],
   "source": [
    "for i in num_cols:\n",
    "    sns.boxplot(x=df[i])\n",
    "    plt.show()"
   ]
  },
  {
   "cell_type": "markdown",
   "id": "019d98ba",
   "metadata": {},
   "source": [
    " ### Outliers correction"
   ]
  },
  {
   "cell_type": "code",
   "execution_count": 69,
   "id": "b2078be4",
   "metadata": {},
   "outputs": [
    {
     "data": {
      "text/plain": [
       "Index(['Title', 'Area', 'Status', 'Price', 'District'], dtype='object')"
      ]
     },
     "execution_count": 69,
     "metadata": {},
     "output_type": "execute_result"
    }
   ],
   "source": [
    "df.columns"
   ]
  },
  {
   "cell_type": "code",
   "execution_count": 70,
   "id": "5dc541a3",
   "metadata": {},
   "outputs": [],
   "source": [
    "colsForOutliers=['Area','Price']"
   ]
  },
  {
   "cell_type": "code",
   "execution_count": 74,
   "id": "06d57e41",
   "metadata": {},
   "outputs": [],
   "source": [
    "def outliers_treatment(x):\n",
    "    x=x.clip(upper=x.quantile(0.97))\n",
    "    return x"
   ]
  },
  {
   "cell_type": "code",
   "execution_count": 75,
   "id": "be993d2a",
   "metadata": {},
   "outputs": [],
   "source": [
    "df[colsForOutliers]=df[colsForOutliers].apply(outliers_treatment)"
   ]
  },
  {
   "cell_type": "markdown",
   "id": "832ead8d",
   "metadata": {},
   "source": [
    "### Clipped outliers to some extent"
   ]
  },
  {
   "cell_type": "code",
   "execution_count": 76,
   "id": "75e6859b",
   "metadata": {},
   "outputs": [
    {
     "data": {
      "image/png": "[encoded data removed]",
      "text/plain": [
       "<Figure size 432x288 with 1 Axes>"
      ]
     },
     "metadata": {
      "needs_background": "light"
     },
     "output_type": "display_data"
    },
    {
     "data": {
      "image/png": "[encoded data removed]",
      "text/plain": [
       "<Figure size 432x288 with 1 Axes>"
      ]
     },
     "metadata": {
      "needs_background": "light"
     },
     "output_type": "display_data"
    }
   ],
   "source": [
    "for i in num_cols:\n",
    "    sns.boxplot(x=df[i])\n",
    "    plt.show()"
   ]
  },
  {
   "cell_type": "markdown",
   "id": "73372d2f",
   "metadata": {},
   "source": [
    "### Label Encoding Title, Status and District columns"
   ]
  },
  {
   "cell_type": "code",
   "execution_count": 77,
   "id": "6d902152",
   "metadata": {},
   "outputs": [],
   "source": [
    "from sklearn.preprocessing import LabelEncoder"
   ]
  },
  {
   "cell_type": "code",
   "execution_count": 78,
   "id": "2964cb1e",
   "metadata": {},
   "outputs": [],
   "source": [
    "lb=LabelEncoder()\n",
    "df[\"Title\"]=lb.fit_transform(df[\"Title\"])"
   ]
  },
  {
   "cell_type": "code",
   "execution_count": 79,
   "id": "11932ea5",
   "metadata": {},
   "outputs": [],
   "source": [
    "df[\"Status\"]=lb.fit_transform(df[\"Status\"])"
   ]
  },
  {
   "cell_type": "code",
   "execution_count": 80,
   "id": "dcf534db",
   "metadata": {},
   "outputs": [],
   "source": [
    "df[\"District\"]=lb.fit_transform(df[\"District\"])"
   ]
  },
  {
   "cell_type": "code",
   "execution_count": 81,
   "id": "d329470e",
   "metadata": {},
   "outputs": [
    {
     "data": {
      "text/html": [
       "<div>\n",
       "<style scoped>\n",
       "    .dataframe tbody tr th:only-of-type {\n",
       "        vertical-align: middle;\n",
       "    }\n",
       "\n",
       "    .dataframe tbody tr th {\n",
       "        vertical-align: top;\n",
       "    }\n",
       "\n",
       "    .dataframe thead th {\n",
       "        text-align: right;\n",
       "    }\n",
       "</style>\n",
       "<table border=\"1\" class=\"dataframe\">\n",
       "  <thead>\n",
       "    <tr style=\"text-align: right;\">\n",
       "      <th></th>\n",
       "      <th>Title</th>\n",
       "      <th>Area</th>\n",
       "      <th>Status</th>\n",
       "      <th>Price</th>\n",
       "      <th>District</th>\n",
       "    </tr>\n",
       "  </thead>\n",
       "  <tbody>\n",
       "    <tr>\n",
       "      <th>0</th>\n",
       "      <td>14</td>\n",
       "      <td>2925.0</td>\n",
       "      <td>1</td>\n",
       "      <td>8.50</td>\n",
       "      <td>1</td>\n",
       "    </tr>\n",
       "    <tr>\n",
       "      <th>1</th>\n",
       "      <td>0</td>\n",
       "      <td>450.0</td>\n",
       "      <td>1</td>\n",
       "      <td>9.50</td>\n",
       "      <td>1</td>\n",
       "    </tr>\n",
       "    <tr>\n",
       "      <th>2</th>\n",
       "      <td>10</td>\n",
       "      <td>1620.0</td>\n",
       "      <td>1</td>\n",
       "      <td>2.35</td>\n",
       "      <td>1</td>\n",
       "    </tr>\n",
       "    <tr>\n",
       "      <th>3</th>\n",
       "      <td>10</td>\n",
       "      <td>1620.0</td>\n",
       "      <td>1</td>\n",
       "      <td>2.40</td>\n",
       "      <td>1</td>\n",
       "    </tr>\n",
       "    <tr>\n",
       "      <th>4</th>\n",
       "      <td>14</td>\n",
       "      <td>2250.0</td>\n",
       "      <td>1</td>\n",
       "      <td>2.35</td>\n",
       "      <td>1</td>\n",
       "    </tr>\n",
       "    <tr>\n",
       "      <th>5</th>\n",
       "      <td>14</td>\n",
       "      <td>2250.0</td>\n",
       "      <td>1</td>\n",
       "      <td>2.90</td>\n",
       "      <td>1</td>\n",
       "    </tr>\n",
       "    <tr>\n",
       "      <th>6</th>\n",
       "      <td>10</td>\n",
       "      <td>1800.0</td>\n",
       "      <td>1</td>\n",
       "      <td>2.25</td>\n",
       "      <td>1</td>\n",
       "    </tr>\n",
       "    <tr>\n",
       "      <th>7</th>\n",
       "      <td>14</td>\n",
       "      <td>2250.0</td>\n",
       "      <td>1</td>\n",
       "      <td>2.70</td>\n",
       "      <td>1</td>\n",
       "    </tr>\n",
       "    <tr>\n",
       "      <th>8</th>\n",
       "      <td>9</td>\n",
       "      <td>1800.0</td>\n",
       "      <td>1</td>\n",
       "      <td>1.95</td>\n",
       "      <td>1</td>\n",
       "    </tr>\n",
       "    <tr>\n",
       "      <th>9</th>\n",
       "      <td>9</td>\n",
       "      <td>1800.0</td>\n",
       "      <td>1</td>\n",
       "      <td>1.65</td>\n",
       "      <td>1</td>\n",
       "    </tr>\n",
       "  </tbody>\n",
       "</table>\n",
       "</div>"
      ],
      "text/plain": [
       "   Title    Area  Status  Price  District\n",
       "0     14  2925.0       1   8.50         1\n",
       "1      0   450.0       1   9.50         1\n",
       "2     10  1620.0       1   2.35         1\n",
       "3     10  1620.0       1   2.40         1\n",
       "4     14  2250.0       1   2.35         1\n",
       "5     14  2250.0       1   2.90         1\n",
       "6     10  1800.0       1   2.25         1\n",
       "7     14  2250.0       1   2.70         1\n",
       "8      9  1800.0       1   1.95         1\n",
       "9      9  1800.0       1   1.65         1"
      ]
     },
     "execution_count": 81,
     "metadata": {},
     "output_type": "execute_result"
    }
   ],
   "source": [
    "df.head(10)"
   ]
  },
  {
   "cell_type": "code",
   "execution_count": 82,
   "id": "1706475e",
   "metadata": {},
   "outputs": [
    {
     "data": {
      "text/plain": [
       "9     316\n",
       "10    207\n",
       "7     152\n",
       "6     130\n",
       "12    109\n",
       "14     84\n",
       "0      29\n",
       "2      26\n",
       "22     23\n",
       "11      8\n",
       "16      7\n",
       "8       5\n",
       "17      4\n",
       "3       4\n",
       "4       3\n",
       "19      2\n",
       "1       1\n",
       "15      1\n",
       "21      1\n",
       "5       1\n",
       "18      1\n",
       "13      1\n",
       "20      1\n",
       "Name: Title, dtype: int64"
      ]
     },
     "execution_count": 82,
     "metadata": {},
     "output_type": "execute_result"
    }
   ],
   "source": [
    "df[\"Title\"].value_counts()"
   ]
  },
  {
   "cell_type": "code",
   "execution_count": 83,
   "id": "3970283b",
   "metadata": {},
   "outputs": [
    {
     "data": {
      "text/plain": [
       "1    1000\n",
       "3      93\n",
       "2      16\n",
       "0       7\n",
       "Name: Status, dtype: int64"
      ]
     },
     "execution_count": 83,
     "metadata": {},
     "output_type": "execute_result"
    }
   ],
   "source": [
    "df[\"Status\"].value_counts()"
   ]
  },
  {
   "cell_type": "code",
   "execution_count": 84,
   "id": "9919691b",
   "metadata": {},
   "outputs": [
    {
     "data": {
      "text/plain": [
       "1    717\n",
       "0    399\n",
       "Name: District, dtype: int64"
      ]
     },
     "execution_count": 84,
     "metadata": {},
     "output_type": "execute_result"
    }
   ],
   "source": [
    "df[\"District\"].value_counts()"
   ]
  },
  {
   "cell_type": "code",
   "execution_count": 85,
   "id": "a37e1267",
   "metadata": {},
   "outputs": [
    {
     "data": {
      "text/plain": [
       "Title         int32\n",
       "Area        float64\n",
       "Status        int32\n",
       "Price       float64\n",
       "District      int32\n",
       "dtype: object"
      ]
     },
     "execution_count": 85,
     "metadata": {},
     "output_type": "execute_result"
    }
   ],
   "source": [
    "df.dtypes"
   ]
  },
  {
   "cell_type": "code",
   "execution_count": 86,
   "id": "eaee35bc",
   "metadata": {},
   "outputs": [
    {
     "name": "stdout",
     "output_type": "stream",
     "text": [
      "(1116, 4)\n",
      "(1116,)\n"
     ]
    }
   ],
   "source": [
    "x=df.drop(\"Price\",axis=1)\n",
    "y=df[\"Price\"]\n",
    "print(x.shape)\n",
    "print(y.shape)"
   ]
  },
  {
   "cell_type": "markdown",
   "id": "7121fcfd",
   "metadata": {},
   "source": [
    "### Splitting Data "
   ]
  },
  {
   "cell_type": "code",
   "execution_count": 87,
   "id": "e1ac7df9",
   "metadata": {},
   "outputs": [
    {
     "name": "stdout",
     "output_type": "stream",
     "text": [
      "(837, 4)\n",
      "(279, 4)\n",
      "(837,)\n",
      "(279,)\n"
     ]
    }
   ],
   "source": [
    "x_train,x_test,y_train,y_test = train_test_split(x,y,test_size=0.25, random_state=42)\n",
    "print(x_train.shape)\n",
    "print(x_test.shape)\n",
    "print(y_train.shape)\n",
    "print(y_test.shape)"
   ]
  },
  {
   "cell_type": "markdown",
   "id": "19dae6a4",
   "metadata": {},
   "source": [
    "### StandardScaler \n",
    "* Standardising the data so that all the values come on a common scale"
   ]
  },
  {
   "cell_type": "code",
   "execution_count": 88,
   "id": "b3a2bb09",
   "metadata": {},
   "outputs": [],
   "source": [
    "from sklearn.preprocessing import StandardScaler"
   ]
  },
  {
   "cell_type": "code",
   "execution_count": 89,
   "id": "880641c9",
   "metadata": {},
   "outputs": [],
   "source": [
    "sc=StandardScaler()\n",
    "x_train_sc=sc.fit_transform(x_train)\n",
    "x_test_sc=sc.transform(x_test)"
   ]
  },
  {
   "cell_type": "markdown",
   "id": "d3a49b3c",
   "metadata": {},
   "source": [
    "### Linear Regression Model"
   ]
  },
  {
   "cell_type": "code",
   "execution_count": 90,
   "id": "310f4165",
   "metadata": {},
   "outputs": [],
   "source": [
    "from sklearn.linear_model import LinearRegression"
   ]
  },
  {
   "cell_type": "code",
   "execution_count": 91,
   "id": "5317fdcc",
   "metadata": {},
   "outputs": [
    {
     "data": {
      "text/plain": [
       "LinearRegression()"
      ]
     },
     "execution_count": 91,
     "metadata": {},
     "output_type": "execute_result"
    }
   ],
   "source": [
    "m1 = LinearRegression()\n",
    "m1.fit(x_train_sc,y_train)"
   ]
  },
  {
   "cell_type": "code",
   "execution_count": 92,
   "id": "3825f89c",
   "metadata": {},
   "outputs": [
    {
     "name": "stdout",
     "output_type": "stream",
     "text": [
      "Training Score 0.7750153690395798\n",
      "Testing Score 0.7734892493058776\n"
     ]
    }
   ],
   "source": [
    "print('Training Score',m1.score(x_train_sc,y_train))\n",
    "print('Testing Score',m1.score(x_test_sc,y_test))"
   ]
  },
  {
   "cell_type": "code",
   "execution_count": 93,
   "id": "7ff32967",
   "metadata": {},
   "outputs": [],
   "source": [
    "ypred_m1 = m1.predict(x_test_sc)"
   ]
  },
  {
   "cell_type": "code",
   "execution_count": 94,
   "id": "23a6614b",
   "metadata": {},
   "outputs": [],
   "source": [
    "from sklearn.metrics import mean_squared_error,mean_absolute_error,r2_score,mean_absolute_percentage_error"
   ]
  },
  {
   "cell_type": "code",
   "execution_count": 97,
   "id": "e759ddc7",
   "metadata": {},
   "outputs": [
    {
     "data": {
      "text/plain": [
       "1.0223352235085768"
      ]
     },
     "execution_count": 97,
     "metadata": {},
     "output_type": "execute_result"
    }
   ],
   "source": [
    "mean_absolute_percentage_error(ypred_m1,y_test)"
   ]
  },
  {
   "cell_type": "code",
   "execution_count": 98,
   "id": "09019701",
   "metadata": {},
   "outputs": [
    {
     "name": "stdout",
     "output_type": "stream",
     "text": [
      "MAE 6.449354135794717\n",
      "MSE 118.2814217336912\n",
      "RMSE 10.875726262355595\n",
      "R2_score 0.7734892493058776\n",
      "Model_Score 0.7734892493058776\n"
     ]
    }
   ],
   "source": [
    "maem1 = mean_absolute_error(y_test,ypred_m1)\n",
    "msem1 = mean_squared_error(y_test,ypred_m1)\n",
    "rmsem1 = np.sqrt(mean_squared_error(y_test,ypred_m1))\n",
    "r2sm1 = r2_score(y_test,ypred_m1)\n",
    "print('MAE',maem1)\n",
    "print('MSE',msem1)\n",
    "print('RMSE',rmsem1)\n",
    "print('R2_score',r2sm1)\n",
    "print('Model_Score',m1.score(x_test_sc,y_test))"
   ]
  },
  {
   "cell_type": "code",
   "execution_count": 99,
   "id": "cafc27b3",
   "metadata": {},
   "outputs": [
    {
     "data": {
      "text/html": [
       "<div>\n",
       "<style scoped>\n",
       "    .dataframe tbody tr th:only-of-type {\n",
       "        vertical-align: middle;\n",
       "    }\n",
       "\n",
       "    .dataframe tbody tr th {\n",
       "        vertical-align: top;\n",
       "    }\n",
       "\n",
       "    .dataframe thead th {\n",
       "        text-align: right;\n",
       "    }\n",
       "</style>\n",
       "<table border=\"1\" class=\"dataframe\">\n",
       "  <thead>\n",
       "    <tr style=\"text-align: right;\">\n",
       "      <th></th>\n",
       "      <th>Model</th>\n",
       "      <th>R2</th>\n",
       "      <th>MAE</th>\n",
       "    </tr>\n",
       "  </thead>\n",
       "  <tbody>\n",
       "    <tr>\n",
       "      <th>0</th>\n",
       "      <td>Linear Regression</td>\n",
       "      <td>0.773489</td>\n",
       "      <td>6.449354</td>\n",
       "    </tr>\n",
       "  </tbody>\n",
       "</table>\n",
       "</div>"
      ],
      "text/plain": [
       "               Model        R2       MAE\n",
       "0  Linear Regression  0.773489  6.449354"
      ]
     },
     "execution_count": 99,
     "metadata": {},
     "output_type": "execute_result"
    }
   ],
   "source": [
    "res1=pd.DataFrame({\"Model\":\"Linear Regression\",\"R2\":r2sm1,\"MAE\":maem1},index=[0])\n",
    "res1"
   ]
  },
  {
   "cell_type": "markdown",
   "id": "d5fa7f08",
   "metadata": {},
   "source": [
    "### Ridge "
   ]
  },
  {
   "cell_type": "code",
   "execution_count": 100,
   "id": "f5757fd8",
   "metadata": {},
   "outputs": [],
   "source": [
    "from sklearn.linear_model import Ridge, Lasso"
   ]
  },
  {
   "cell_type": "code",
   "execution_count": 109,
   "id": "38bfe4d2",
   "metadata": {},
   "outputs": [
    {
     "data": {
      "text/plain": [
       "Ridge(alpha=0.2)"
      ]
     },
     "execution_count": 109,
     "metadata": {},
     "output_type": "execute_result"
    }
   ],
   "source": [
    "m9 = Ridge(alpha=0.2)\n",
    "m9.fit(x_train_sc,y_train)"
   ]
  },
  {
   "cell_type": "code",
   "execution_count": 110,
   "id": "b1e210b7",
   "metadata": {},
   "outputs": [
    {
     "name": "stdout",
     "output_type": "stream",
     "text": [
      "Training Score 0.7750152882622665\n",
      "Testing Score 0.7734589796549671\n"
     ]
    }
   ],
   "source": [
    "print('Training Score',m9.score(x_train_sc,y_train))\n",
    "print('Testing Score',m9.score(x_test_sc,y_test))"
   ]
  },
  {
   "cell_type": "code",
   "execution_count": 111,
   "id": "2cd4825c",
   "metadata": {},
   "outputs": [
    {
     "name": "stdout",
     "output_type": "stream",
     "text": [
      "MAE 6.450873014255338\n",
      "MSE 118.2972282123422\n",
      "RMSE 10.87645292420016\n",
      "R2_score 0.7734589796549671\n",
      "Model_Score 0.7734589796549671\n"
     ]
    },
    {
     "data": {
      "text/html": [
       "<div>\n",
       "<style scoped>\n",
       "    .dataframe tbody tr th:only-of-type {\n",
       "        vertical-align: middle;\n",
       "    }\n",
       "\n",
       "    .dataframe tbody tr th {\n",
       "        vertical-align: top;\n",
       "    }\n",
       "\n",
       "    .dataframe thead th {\n",
       "        text-align: right;\n",
       "    }\n",
       "</style>\n",
       "<table border=\"1\" class=\"dataframe\">\n",
       "  <thead>\n",
       "    <tr style=\"text-align: right;\">\n",
       "      <th></th>\n",
       "      <th>Model</th>\n",
       "      <th>R2</th>\n",
       "      <th>MAE</th>\n",
       "    </tr>\n",
       "  </thead>\n",
       "  <tbody>\n",
       "    <tr>\n",
       "      <th>8</th>\n",
       "      <td>Ridge</td>\n",
       "      <td>0.773459</td>\n",
       "      <td>6.450873</td>\n",
       "    </tr>\n",
       "  </tbody>\n",
       "</table>\n",
       "</div>"
      ],
      "text/plain": [
       "   Model        R2       MAE\n",
       "8  Ridge  0.773459  6.450873"
      ]
     },
     "execution_count": 111,
     "metadata": {},
     "output_type": "execute_result"
    }
   ],
   "source": [
    "ypred_m9 = m9.predict(x_test_sc)\n",
    "maem9 = mean_absolute_error(y_test,ypred_m9)\n",
    "msem9 = mean_squared_error(y_test,ypred_m9)\n",
    "rmsem9 = np.sqrt(mean_squared_error(y_test,ypred_m9))\n",
    "r2sm9 = r2_score(y_test,ypred_m9)\n",
    "print('MAE',maem9)\n",
    "print('MSE',msem9)\n",
    "print('RMSE',rmsem9)\n",
    "print('R2_score',r2sm9)\n",
    "print('Model_Score',m9.score(x_test_sc,y_test))\n",
    "res9=pd.DataFrame({\"Model\":\"Ridge\",\"R2\":r2sm9,\"MAE\":maem9},index=[8])\n",
    "res9"
   ]
  },
  {
   "cell_type": "markdown",
   "id": "6f7224f0",
   "metadata": {},
   "source": [
    "### Lasso "
   ]
  },
  {
   "cell_type": "code",
   "execution_count": 117,
   "id": "bc61e978",
   "metadata": {},
   "outputs": [
    {
     "data": {
      "text/plain": [
       "Lasso(alpha=0.1)"
      ]
     },
     "execution_count": 117,
     "metadata": {},
     "output_type": "execute_result"
    }
   ],
   "source": [
    "m10 = Lasso(alpha=0.1)\n",
    "m10.fit(x_train_sc,y_train)"
   ]
  },
  {
   "cell_type": "code",
   "execution_count": 118,
   "id": "c48f3e14",
   "metadata": {},
   "outputs": [
    {
     "name": "stdout",
     "output_type": "stream",
     "text": [
      "Training Score 0.7749156322541932\n",
      "Testing Score 0.7724911324729407\n"
     ]
    }
   ],
   "source": [
    "print('Training Score',m10.score(x_train_sc,y_train))\n",
    "print('Testing Score',m10.score(x_test_sc,y_test))"
   ]
  },
  {
   "cell_type": "code",
   "execution_count": 119,
   "id": "274c45e3",
   "metadata": {},
   "outputs": [
    {
     "name": "stdout",
     "output_type": "stream",
     "text": [
      "MAE 6.483234950307243\n",
      "MSE 118.80262736165517\n",
      "RMSE 10.899661800333769\n",
      "R2_score 0.7724911324729407\n",
      "Model_Score 0.7724911324729407\n"
     ]
    },
    {
     "data": {
      "text/html": [
       "<div>\n",
       "<style scoped>\n",
       "    .dataframe tbody tr th:only-of-type {\n",
       "        vertical-align: middle;\n",
       "    }\n",
       "\n",
       "    .dataframe tbody tr th {\n",
       "        vertical-align: top;\n",
       "    }\n",
       "\n",
       "    .dataframe thead th {\n",
       "        text-align: right;\n",
       "    }\n",
       "</style>\n",
       "<table border=\"1\" class=\"dataframe\">\n",
       "  <thead>\n",
       "    <tr style=\"text-align: right;\">\n",
       "      <th></th>\n",
       "      <th>Model</th>\n",
       "      <th>R2</th>\n",
       "      <th>MAE</th>\n",
       "    </tr>\n",
       "  </thead>\n",
       "  <tbody>\n",
       "    <tr>\n",
       "      <th>9</th>\n",
       "      <td>Lasso</td>\n",
       "      <td>0.772491</td>\n",
       "      <td>6.483235</td>\n",
       "    </tr>\n",
       "  </tbody>\n",
       "</table>\n",
       "</div>"
      ],
      "text/plain": [
       "   Model        R2       MAE\n",
       "9  Lasso  0.772491  6.483235"
      ]
     },
     "execution_count": 119,
     "metadata": {},
     "output_type": "execute_result"
    }
   ],
   "source": [
    "ypred_m10 = m10.predict(x_test_sc)\n",
    "maem10 = mean_absolute_error(y_test,ypred_m10)\n",
    "msem10 = mean_squared_error(y_test,ypred_m10)\n",
    "rmsem10 = np.sqrt(mean_squared_error(y_test,ypred_m10))\n",
    "r2sm10 = r2_score(y_test,ypred_m10)\n",
    "print('MAE',maem10)\n",
    "print('MSE',msem10)\n",
    "print('RMSE',rmsem10)\n",
    "print('R2_score',r2sm10)\n",
    "print('Model_Score',m10.score(x_test_sc,y_test))\n",
    "res10=pd.DataFrame({\"Model\":\"Lasso\",\"R2\":r2sm10,\"MAE\":maem10},index=[9])\n",
    "res10"
   ]
  },
  {
   "cell_type": "markdown",
   "id": "9db946b0",
   "metadata": {},
   "source": [
    "### SGDRegressor"
   ]
  },
  {
   "cell_type": "code",
   "execution_count": 120,
   "id": "75e07b6a",
   "metadata": {},
   "outputs": [
    {
     "data": {
      "text/plain": [
       "SGDRegressor()"
      ]
     },
     "execution_count": 120,
     "metadata": {},
     "output_type": "execute_result"
    }
   ],
   "source": [
    "from sklearn.linear_model import SGDRegressor\n",
    "m11 = SGDRegressor()  # no_of_iterations = 1000, Learning_rate=0.01\n",
    "m11.fit(x_train_sc,y_train)"
   ]
  },
  {
   "cell_type": "code",
   "execution_count": 121,
   "id": "424dd222",
   "metadata": {},
   "outputs": [
    {
     "name": "stdout",
     "output_type": "stream",
     "text": [
      "Training Score 0.7749810924539023\n",
      "Testing Score 0.773281623450404\n"
     ]
    }
   ],
   "source": [
    "print('Training Score',m11.score(x_train_sc,y_train))\n",
    "print('Testing Score',m11.score(x_test_sc,y_test))"
   ]
  },
  {
   "cell_type": "code",
   "execution_count": 122,
   "id": "66d7c2bc",
   "metadata": {},
   "outputs": [
    {
     "name": "stdout",
     "output_type": "stream",
     "text": [
      "MAE 6.4322084553875\n",
      "MSE 118.38984167092971\n",
      "RMSE 10.8807096124715\n",
      "R2_score 0.773281623450404\n",
      "Model_Score 0.773281623450404\n"
     ]
    },
    {
     "data": {
      "text/html": [
       "<div>\n",
       "<style scoped>\n",
       "    .dataframe tbody tr th:only-of-type {\n",
       "        vertical-align: middle;\n",
       "    }\n",
       "\n",
       "    .dataframe tbody tr th {\n",
       "        vertical-align: top;\n",
       "    }\n",
       "\n",
       "    .dataframe thead th {\n",
       "        text-align: right;\n",
       "    }\n",
       "</style>\n",
       "<table border=\"1\" class=\"dataframe\">\n",
       "  <thead>\n",
       "    <tr style=\"text-align: right;\">\n",
       "      <th></th>\n",
       "      <th>Model</th>\n",
       "      <th>R2</th>\n",
       "      <th>MAE</th>\n",
       "    </tr>\n",
       "  </thead>\n",
       "  <tbody>\n",
       "    <tr>\n",
       "      <th>10</th>\n",
       "      <td>SGDRegressor</td>\n",
       "      <td>0.773282</td>\n",
       "      <td>6.432208</td>\n",
       "    </tr>\n",
       "  </tbody>\n",
       "</table>\n",
       "</div>"
      ],
      "text/plain": [
       "           Model        R2       MAE\n",
       "10  SGDRegressor  0.773282  6.432208"
      ]
     },
     "execution_count": 122,
     "metadata": {},
     "output_type": "execute_result"
    }
   ],
   "source": [
    "ypred_m11 = m11.predict(x_test_sc)\n",
    "maem11 = mean_absolute_error(y_test,ypred_m11)\n",
    "msem11 = mean_squared_error(y_test,ypred_m11)\n",
    "rmsem11 = np.sqrt(mean_squared_error(y_test,ypred_m11))\n",
    "r2sm11 = r2_score(y_test,ypred_m11)\n",
    "print('MAE',maem11)\n",
    "print('MSE',msem11)\n",
    "print('RMSE',rmsem11)\n",
    "print('R2_score',r2sm11)\n",
    "print('Model_Score',m11.score(x_test_sc,y_test))\n",
    "res11=pd.DataFrame({\"Model\":\"SGDRegressor\",\"R2\":r2sm11,\"MAE\":maem11},index=[10])\n",
    "res11"
   ]
  },
  {
   "cell_type": "markdown",
   "id": "33afcc0a",
   "metadata": {},
   "source": [
    "### Decision Tree"
   ]
  },
  {
   "cell_type": "code",
   "execution_count": 123,
   "id": "3ed1b758",
   "metadata": {},
   "outputs": [],
   "source": [
    "from sklearn import tree\n",
    "from sklearn.tree import export_text"
   ]
  },
  {
   "cell_type": "code",
   "execution_count": 163,
   "id": "68fc7293",
   "metadata": {},
   "outputs": [
    {
     "data": {
      "text/plain": [
       "DecisionTreeRegressor(max_depth=7, min_samples_split=15, random_state=42)"
      ]
     },
     "execution_count": 163,
     "metadata": {},
     "output_type": "execute_result"
    }
   ],
   "source": [
    "m2=DecisionTreeRegressor(min_samples_split=15,max_depth=7,random_state=42)\n",
    "m2.fit(x_train_sc,y_train)"
   ]
  },
  {
   "cell_type": "code",
   "execution_count": 164,
   "id": "880d8ee3",
   "metadata": {},
   "outputs": [
    {
     "name": "stdout",
     "output_type": "stream",
     "text": [
      "Training Score 0.8940861292655213\n",
      "Testing Score 0.8714986793018983\n"
     ]
    }
   ],
   "source": [
    "print(\"Training Score\",m2.score(x_train_sc,y_train))\n",
    "print(\"Testing Score\",m2.score(x_test_sc,y_test))"
   ]
  },
  {
   "cell_type": "code",
   "execution_count": 165,
   "id": "c9521431",
   "metadata": {},
   "outputs": [
    {
     "name": "stdout",
     "output_type": "stream",
     "text": [
      "MAE 4.163495222645315\n",
      "MSE 67.10197577930182\n",
      "RMSE 8.191579565584517\n",
      "R2_score 0.8714986793018983\n",
      "Model_Score 0.8714986793018983\n"
     ]
    }
   ],
   "source": [
    "ypred_m2 = m2.predict(x_test_sc)\n",
    "maem2 = mean_absolute_error(y_test,ypred_m2)\n",
    "msem2 = mean_squared_error(y_test,ypred_m2)\n",
    "rmsem2 = np.sqrt(mean_squared_error(y_test,ypred_m2))\n",
    "r2sm2 = r2_score(y_test,ypred_m2)\n",
    "print('MAE',maem2)\n",
    "print('MSE',msem2)\n",
    "print('RMSE',rmsem2)\n",
    "print('R2_score',r2sm2)\n",
    "print('Model_Score',m2.score(x_test_sc,y_test))"
   ]
  },
  {
   "cell_type": "code",
   "execution_count": 166,
   "id": "b842daae",
   "metadata": {},
   "outputs": [
    {
     "data": {
      "text/html": [
       "<div>\n",
       "<style scoped>\n",
       "    .dataframe tbody tr th:only-of-type {\n",
       "        vertical-align: middle;\n",
       "    }\n",
       "\n",
       "    .dataframe tbody tr th {\n",
       "        vertical-align: top;\n",
       "    }\n",
       "\n",
       "    .dataframe thead th {\n",
       "        text-align: right;\n",
       "    }\n",
       "</style>\n",
       "<table border=\"1\" class=\"dataframe\">\n",
       "  <thead>\n",
       "    <tr style=\"text-align: right;\">\n",
       "      <th></th>\n",
       "      <th>Model</th>\n",
       "      <th>R2</th>\n",
       "      <th>MAE</th>\n",
       "    </tr>\n",
       "  </thead>\n",
       "  <tbody>\n",
       "    <tr>\n",
       "      <th>1</th>\n",
       "      <td>Decision Tree</td>\n",
       "      <td>0.871499</td>\n",
       "      <td>4.163495</td>\n",
       "    </tr>\n",
       "  </tbody>\n",
       "</table>\n",
       "</div>"
      ],
      "text/plain": [
       "           Model        R2       MAE\n",
       "1  Decision Tree  0.871499  4.163495"
      ]
     },
     "execution_count": 166,
     "metadata": {},
     "output_type": "execute_result"
    }
   ],
   "source": [
    "res2=pd.DataFrame({\"Model\":\"Decision Tree\",\"R2\":r2sm2,\"MAE\":maem2},index=[1])\n",
    "res2"
   ]
  },
  {
   "cell_type": "markdown",
   "id": "71836b6f",
   "metadata": {},
   "source": [
    "### Random Forest"
   ]
  },
  {
   "cell_type": "code",
   "execution_count": 167,
   "id": "6935ca02",
   "metadata": {},
   "outputs": [],
   "source": [
    "from sklearn.ensemble import RandomForestRegressor"
   ]
  },
  {
   "cell_type": "code",
   "execution_count": 180,
   "id": "7dca4dfc",
   "metadata": {},
   "outputs": [
    {
     "data": {
      "text/plain": [
       "RandomForestRegressor(max_depth=10, min_samples_split=14, n_estimators=70,\n",
       "                      random_state=42)"
      ]
     },
     "execution_count": 180,
     "metadata": {},
     "output_type": "execute_result"
    }
   ],
   "source": [
    "m3=RandomForestRegressor(n_estimators=70,max_depth=10,min_samples_split=14,random_state=42)\n",
    "m3.fit(x_train_sc,y_train)"
   ]
  },
  {
   "cell_type": "code",
   "execution_count": 181,
   "id": "358e486d",
   "metadata": {},
   "outputs": [
    {
     "name": "stdout",
     "output_type": "stream",
     "text": [
      "Training Score 0.919703963478241\n",
      "Testing Score 0.9019927204372671\n"
     ]
    }
   ],
   "source": [
    "print(\"Training Score\",m3.score(x_train_sc,y_train))\n",
    "print(\"Testing Score\",m3.score(x_test_sc,y_test))"
   ]
  },
  {
   "cell_type": "code",
   "execution_count": 182,
   "id": "41a91e99",
   "metadata": {},
   "outputs": [
    {
     "name": "stdout",
     "output_type": "stream",
     "text": [
      "MAE 3.8347944822792206\n",
      "MSE 51.1783230217876\n",
      "RMSE 7.153902642738968\n",
      "R2_score 0.9019927204372671\n",
      "Model_Score 0.9019927204372671\n"
     ]
    },
    {
     "data": {
      "text/html": [
       "<div>\n",
       "<style scoped>\n",
       "    .dataframe tbody tr th:only-of-type {\n",
       "        vertical-align: middle;\n",
       "    }\n",
       "\n",
       "    .dataframe tbody tr th {\n",
       "        vertical-align: top;\n",
       "    }\n",
       "\n",
       "    .dataframe thead th {\n",
       "        text-align: right;\n",
       "    }\n",
       "</style>\n",
       "<table border=\"1\" class=\"dataframe\">\n",
       "  <thead>\n",
       "    <tr style=\"text-align: right;\">\n",
       "      <th></th>\n",
       "      <th>Model</th>\n",
       "      <th>R2</th>\n",
       "      <th>MAE</th>\n",
       "    </tr>\n",
       "  </thead>\n",
       "  <tbody>\n",
       "    <tr>\n",
       "      <th>2</th>\n",
       "      <td>Random Forest</td>\n",
       "      <td>0.901993</td>\n",
       "      <td>3.834794</td>\n",
       "    </tr>\n",
       "  </tbody>\n",
       "</table>\n",
       "</div>"
      ],
      "text/plain": [
       "           Model        R2       MAE\n",
       "2  Random Forest  0.901993  3.834794"
      ]
     },
     "execution_count": 182,
     "metadata": {},
     "output_type": "execute_result"
    }
   ],
   "source": [
    "ypred_m3 = m3.predict(x_test_sc)\n",
    "maem3 = mean_absolute_error(y_test,ypred_m3)\n",
    "msem3 = mean_squared_error(y_test,ypred_m3)\n",
    "rmsem3 = np.sqrt(mean_squared_error(y_test,ypred_m3))\n",
    "r2sm3 = r2_score(y_test,ypred_m3)\n",
    "print('MAE',maem3)\n",
    "print('MSE',msem3)\n",
    "print('RMSE',rmsem3)\n",
    "print('R2_score',r2sm3)\n",
    "print('Model_Score',m3.score(x_test_sc,y_test))\n",
    "res3=pd.DataFrame({\"Model\":\"Random Forest\",\"R2\":r2sm3,\"MAE\":maem3},index=[2])\n",
    "res3"
   ]
  },
  {
   "cell_type": "markdown",
   "id": "891abac6",
   "metadata": {},
   "source": [
    "### RF with GridSearchCV"
   ]
  },
  {
   "cell_type": "code",
   "execution_count": 183,
   "id": "6b1d194c",
   "metadata": {},
   "outputs": [],
   "source": [
    "from sklearn.model_selection import GridSearchCV"
   ]
  },
  {
   "cell_type": "code",
   "execution_count": 184,
   "id": "5a51060e",
   "metadata": {},
   "outputs": [],
   "source": [
    "param_grid = {'n_estimators': [60,70,80,100],  \n",
    "              'max_depth': [7,8,10,15,19], \n",
    "              'min_samples_split':[12,15,16,19]}  "
   ]
  },
  {
   "cell_type": "code",
   "execution_count": 185,
   "id": "3ba67697",
   "metadata": {},
   "outputs": [],
   "source": [
    "RF=RandomForestRegressor(random_state=42)"
   ]
  },
  {
   "cell_type": "code",
   "execution_count": 186,
   "id": "9a450520",
   "metadata": {},
   "outputs": [],
   "source": [
    "grid = GridSearchCV(RF, param_grid, verbose = 3,n_jobs=-1)"
   ]
  },
  {
   "cell_type": "code",
   "execution_count": 187,
   "id": "ac607b3b",
   "metadata": {},
   "outputs": [
    {
     "name": "stdout",
     "output_type": "stream",
     "text": [
      "Fitting 5 folds for each of 80 candidates, totalling 400 fits\n"
     ]
    },
    {
     "data": {
      "text/plain": [
       "GridSearchCV(estimator=RandomForestRegressor(random_state=42), n_jobs=-1,\n",
       "             param_grid={'max_depth': [7, 8, 10, 15, 19],\n",
       "                         'min_samples_split': [12, 15, 16, 19],\n",
       "                         'n_estimators': [60, 70, 80, 100]},\n",
       "             verbose=3)"
      ]
     },
     "execution_count": 187,
     "metadata": {},
     "output_type": "execute_result"
    }
   ],
   "source": [
    "grid.fit(x_train_sc, y_train)"
   ]
  },
  {
   "cell_type": "code",
   "execution_count": 188,
   "id": "3c2b23cc",
   "metadata": {},
   "outputs": [
    {
     "name": "stdout",
     "output_type": "stream",
     "text": [
      "{'max_depth': 15, 'min_samples_split': 12, 'n_estimators': 80}\n"
     ]
    }
   ],
   "source": [
    "print(grid.best_params_) \n",
    "grid_predictions = grid.predict(x_test_sc) "
   ]
  },
  {
   "cell_type": "code",
   "execution_count": 201,
   "id": "236269bf",
   "metadata": {},
   "outputs": [
    {
     "data": {
      "text/plain": [
       "RandomForestRegressor(max_depth=15, min_samples_split=12, n_estimators=80)"
      ]
     },
     "execution_count": 201,
     "metadata": {},
     "output_type": "execute_result"
    }
   ],
   "source": [
    "m4=RandomForestRegressor(n_estimators=80,max_depth=15,min_samples_split=12)\n",
    "m4.fit(x_train_sc,y_train)"
   ]
  },
  {
   "cell_type": "code",
   "execution_count": 202,
   "id": "a8269884",
   "metadata": {},
   "outputs": [
    {
     "name": "stdout",
     "output_type": "stream",
     "text": [
      "Training Score 0.9254197568894499\n",
      "Testing Score 0.9080014962222646\n"
     ]
    }
   ],
   "source": [
    "print(\"Training Score\",m4.score(x_train_sc,y_train))\n",
    "print(\"Testing Score\",m4.score(x_test_sc,y_test))"
   ]
  },
  {
   "cell_type": "code",
   "execution_count": 203,
   "id": "728c24c3",
   "metadata": {},
   "outputs": [
    {
     "name": "stdout",
     "output_type": "stream",
     "text": [
      "MAE 3.743909214088558\n",
      "MSE 48.040606420917534\n",
      "RMSE 6.93113312676344\n",
      "R2_score 0.9080014962222646\n",
      "Model_Score 0.9080014962222646\n"
     ]
    },
    {
     "data": {
      "text/html": [
       "<div>\n",
       "<style scoped>\n",
       "    .dataframe tbody tr th:only-of-type {\n",
       "        vertical-align: middle;\n",
       "    }\n",
       "\n",
       "    .dataframe tbody tr th {\n",
       "        vertical-align: top;\n",
       "    }\n",
       "\n",
       "    .dataframe thead th {\n",
       "        text-align: right;\n",
       "    }\n",
       "</style>\n",
       "<table border=\"1\" class=\"dataframe\">\n",
       "  <thead>\n",
       "    <tr style=\"text-align: right;\">\n",
       "      <th></th>\n",
       "      <th>Model</th>\n",
       "      <th>R2</th>\n",
       "      <th>MAE</th>\n",
       "    </tr>\n",
       "  </thead>\n",
       "  <tbody>\n",
       "    <tr>\n",
       "      <th>3</th>\n",
       "      <td>RF with GridSearch</td>\n",
       "      <td>0.908001</td>\n",
       "      <td>3.743909</td>\n",
       "    </tr>\n",
       "  </tbody>\n",
       "</table>\n",
       "</div>"
      ],
      "text/plain": [
       "                Model        R2       MAE\n",
       "3  RF with GridSearch  0.908001  3.743909"
      ]
     },
     "execution_count": 203,
     "metadata": {},
     "output_type": "execute_result"
    }
   ],
   "source": [
    "ypred_m4 = m4.predict(x_test_sc)\n",
    "maem4 = mean_absolute_error(y_test,ypred_m4)\n",
    "msem4 = mean_squared_error(y_test,ypred_m4)\n",
    "rmsem4 = np.sqrt(mean_squared_error(y_test,ypred_m4))\n",
    "r2sm4 = r2_score(y_test,ypred_m4)\n",
    "print('MAE',maem4)\n",
    "print('MSE',msem4)\n",
    "print('RMSE',rmsem4)\n",
    "print('R2_score',r2sm4)\n",
    "print('Model_Score',m4.score(x_test_sc,y_test))\n",
    "res4=pd.DataFrame({\"Model\":\"RF with GridSearch\",\"R2\":r2sm4,\"MAE\":maem4},index=[3])\n",
    "res4"
   ]
  },
  {
   "cell_type": "markdown",
   "id": "ba738f6b",
   "metadata": {},
   "source": [
    "### XGBOOST"
   ]
  },
  {
   "cell_type": "code",
   "execution_count": 204,
   "id": "46ad10e6",
   "metadata": {},
   "outputs": [],
   "source": [
    "import xgboost\n",
    "from xgboost import XGBRegressor"
   ]
  },
  {
   "cell_type": "code",
   "execution_count": 244,
   "id": "6df082e5",
   "metadata": {},
   "outputs": [],
   "source": [
    "m5 = XGBRegressor(objective='reg:squarederror',eval_metric='mape',\n",
    "                  n_estimators=100,max_depth=6,reg_lambda=0.04,eta=0.09,\n",
    "                  gamma=0.08, use_label_encoder=False,random_state=42)"
   ]
  },
  {
   "cell_type": "code",
   "execution_count": 245,
   "id": "428ab558",
   "metadata": {},
   "outputs": [
    {
     "data": {
      "text/plain": [
       "XGBRegressor(base_score=0.5, booster='gbtree', callbacks=None,\n",
       "             colsample_bylevel=1, colsample_bynode=1, colsample_bytree=1,\n",
       "             early_stopping_rounds=None, enable_categorical=False, eta=0.09,\n",
       "             eval_metric='mape', gamma=0.08, gpu_id=-1, grow_policy='depthwise',\n",
       "             importance_type=None, interaction_constraints='',\n",
       "             learning_rate=0.0900000036, max_bin=256, max_cat_to_onehot=4,\n",
       "             max_delta_step=0, max_depth=6, max_leaves=0, min_child_weight=1,\n",
       "             missing=nan, monotone_constraints='()', n_estimators=100, n_jobs=0,\n",
       "             num_parallel_tree=1, predictor='auto', random_state=42,\n",
       "             reg_alpha=0, ...)"
      ]
     },
     "execution_count": 245,
     "metadata": {},
     "output_type": "execute_result"
    }
   ],
   "source": [
    "m5.fit(x_train_sc,y_train)"
   ]
  },
  {
   "cell_type": "code",
   "execution_count": 246,
   "id": "7385b39a",
   "metadata": {},
   "outputs": [
    {
     "name": "stdout",
     "output_type": "stream",
     "text": [
      "Training Score 0.9531605104070866\n",
      "Testing Score 0.9107164179256974\n"
     ]
    }
   ],
   "source": [
    "print(\"Training Score\",m5.score(x_train_sc,y_train))\n",
    "print(\"Testing Score\",m5.score(x_test_sc,y_test))"
   ]
  },
  {
   "cell_type": "code",
   "execution_count": 247,
   "id": "92e499c5",
   "metadata": {},
   "outputs": [
    {
     "name": "stdout",
     "output_type": "stream",
     "text": [
      "MAE 3.5256834655850553\n",
      "MSE 46.62290417944062\n",
      "RMSE 6.828096673264126\n",
      "R2_score 0.9107164179256974\n",
      "Model_Score 0.9107164179256974\n"
     ]
    },
    {
     "data": {
      "text/html": [
       "<div>\n",
       "<style scoped>\n",
       "    .dataframe tbody tr th:only-of-type {\n",
       "        vertical-align: middle;\n",
       "    }\n",
       "\n",
       "    .dataframe tbody tr th {\n",
       "        vertical-align: top;\n",
       "    }\n",
       "\n",
       "    .dataframe thead th {\n",
       "        text-align: right;\n",
       "    }\n",
       "</style>\n",
       "<table border=\"1\" class=\"dataframe\">\n",
       "  <thead>\n",
       "    <tr style=\"text-align: right;\">\n",
       "      <th></th>\n",
       "      <th>Model</th>\n",
       "      <th>R2</th>\n",
       "      <th>MAE</th>\n",
       "    </tr>\n",
       "  </thead>\n",
       "  <tbody>\n",
       "    <tr>\n",
       "      <th>4</th>\n",
       "      <td>XGBOOST</td>\n",
       "      <td>0.910716</td>\n",
       "      <td>3.525683</td>\n",
       "    </tr>\n",
       "  </tbody>\n",
       "</table>\n",
       "</div>"
      ],
      "text/plain": [
       "     Model        R2       MAE\n",
       "4  XGBOOST  0.910716  3.525683"
      ]
     },
     "execution_count": 247,
     "metadata": {},
     "output_type": "execute_result"
    }
   ],
   "source": [
    "ypred_m5 = m5.predict(x_test_sc)\n",
    "maem5 = mean_absolute_error(y_test,ypred_m5)\n",
    "msem5 = mean_squared_error(y_test,ypred_m5)\n",
    "rmsem5 = np.sqrt(mean_squared_error(y_test,ypred_m5))\n",
    "r2sm5 = r2_score(y_test,ypred_m5)\n",
    "print('MAE',maem5)\n",
    "print('MSE',msem5)\n",
    "print('RMSE',rmsem5)\n",
    "print('R2_score',r2sm5)\n",
    "print('Model_Score',m5.score(x_test_sc,y_test))\n",
    "res5=pd.DataFrame({\"Model\":\"XGBOOST\",\"R2\":r2sm5,\"MAE\":maem5},index=[4])\n",
    "res5"
   ]
  },
  {
   "cell_type": "markdown",
   "id": "14bd5e91",
   "metadata": {},
   "source": [
    "### XGB with GridSearchCV"
   ]
  },
  {
   "cell_type": "code",
   "execution_count": 248,
   "id": "8dc71b50",
   "metadata": {},
   "outputs": [],
   "source": [
    "param_grid = {'objective': ['reg:squarederror','reg:squaredlogerror'],  \n",
    "              'max_depth': [4,5,6,7,8,10,15,19], \n",
    "              'reg_lambda':[0.03,0.4,0.5,0.6],\n",
    "              'gamma': [0.5,0.6,0.03,0.3,0.4],\n",
    "             'eta': [0.5,0.6,0.03,0.3,0.4],\n",
    "             'n_estimators': [50,60,70,80,100]}  "
   ]
  },
  {
   "cell_type": "code",
   "execution_count": 251,
   "id": "56bc22ba",
   "metadata": {},
   "outputs": [],
   "source": [
    "xgboost=XGBRegressor(random_state=42)"
   ]
  },
  {
   "cell_type": "code",
   "execution_count": 252,
   "id": "ec735c8e",
   "metadata": {},
   "outputs": [],
   "source": [
    "grid2 = GridSearchCV(xgboost, param_grid, verbose = 3,n_jobs=-1)"
   ]
  },
  {
   "cell_type": "code",
   "execution_count": 253,
   "id": "483f5625",
   "metadata": {},
   "outputs": [
    {
     "name": "stdout",
     "output_type": "stream",
     "text": [
      "Fitting 5 folds for each of 8000 candidates, totalling 40000 fits\n"
     ]
    },
    {
     "data": {
      "text/plain": [
       "GridSearchCV(estimator=XGBRegressor(base_score=None, booster=None,\n",
       "                                    callbacks=None, colsample_bylevel=None,\n",
       "                                    colsample_bynode=None,\n",
       "                                    colsample_bytree=None,\n",
       "                                    early_stopping_rounds=None,\n",
       "                                    enable_categorical=False, eval_metric=None,\n",
       "                                    gamma=None, gpu_id=None, grow_policy=None,\n",
       "                                    importance_type=None,\n",
       "                                    interaction_constraints=None,\n",
       "                                    learning_rate=None, max_bin=None,\n",
       "                                    max_cat_to_o...\n",
       "                                    monotone_constraints=None, n_estimators=100,\n",
       "                                    n_jobs=None, num_parallel_tree=None,\n",
       "                                    predictor=None, random_state=42,\n",
       "                                    reg_alpha=None, reg_lambda=None, ...),\n",
       "             n_jobs=-1,\n",
       "             param_grid={'eta': [0.5, 0.6, 0.03, 0.3, 0.4],\n",
       "                         'gamma': [0.5, 0.6, 0.03, 0.3, 0.4],\n",
       "                         'max_depth': [4, 5, 6, 7, 8, 10, 15, 19],\n",
       "                         'n_estimators': [50, 60, 70, 80, 100],\n",
       "                         'objective': ['reg:squarederror',\n",
       "                                       'reg:squaredlogerror'],\n",
       "                         'reg_lambda': [0.03, 0.4, 0.5, 0.6]},\n",
       "             verbose=3)"
      ]
     },
     "execution_count": 253,
     "metadata": {},
     "output_type": "execute_result"
    }
   ],
   "source": [
    "grid2.fit(x_train, y_train)"
   ]
  },
  {
   "cell_type": "code",
   "execution_count": 254,
   "id": "1af5b877",
   "metadata": {},
   "outputs": [
    {
     "name": "stdout",
     "output_type": "stream",
     "text": [
      "{'eta': 0.03, 'gamma': 0.5, 'max_depth': 7, 'n_estimators': 100, 'objective': 'reg:squarederror', 'reg_lambda': 0.5}\n"
     ]
    }
   ],
   "source": [
    "print(grid2.best_params_) \n",
    "grid_predictions2 = grid2.predict(x_test_sc) "
   ]
  },
  {
   "cell_type": "code",
   "execution_count": 329,
   "id": "1160da8b",
   "metadata": {},
   "outputs": [],
   "source": [
    "m6 = XGBRegressor(objective='reg:squarederror',eval_metric='mape',\n",
    "                  n_estimators=100,max_depth=7,reg_lambda=0.5,eta=0.05,\n",
    "                  gamma=0.5, use_label_encoder=False,random_state=42)"
   ]
  },
  {
   "cell_type": "code",
   "execution_count": 330,
   "id": "b900b447",
   "metadata": {},
   "outputs": [
    {
     "data": {
      "text/plain": [
       "XGBRegressor(base_score=0.5, booster='gbtree', callbacks=None,\n",
       "             colsample_bylevel=1, colsample_bynode=1, colsample_bytree=1,\n",
       "             early_stopping_rounds=None, enable_categorical=False, eta=0.05,\n",
       "             eval_metric='mape', gamma=0.5, gpu_id=-1, grow_policy='depthwise',\n",
       "             importance_type=None, interaction_constraints='',\n",
       "             learning_rate=0.0500000007, max_bin=256, max_cat_to_onehot=4,\n",
       "             max_delta_step=0, max_depth=7, max_leaves=0, min_child_weight=1,\n",
       "             missing=nan, monotone_constraints='()', n_estimators=100, n_jobs=0,\n",
       "             num_parallel_tree=1, predictor='auto', random_state=42,\n",
       "             reg_alpha=0, ...)"
      ]
     },
     "execution_count": 330,
     "metadata": {},
     "output_type": "execute_result"
    }
   ],
   "source": [
    "m6.fit(x_train_sc, y_train)"
   ]
  },
  {
   "cell_type": "code",
   "execution_count": 331,
   "id": "eaa47147",
   "metadata": {},
   "outputs": [
    {
     "name": "stdout",
     "output_type": "stream",
     "text": [
      "Training Score 0.948448406213718\n",
      "Testing Score 0.9062683045057104\n"
     ]
    }
   ],
   "source": [
    "print(\"Training Score\",m6.score(x_train_sc,y_train))\n",
    "print(\"Testing Score\",m6.score(x_test_sc,y_test))"
   ]
  },
  {
   "cell_type": "code",
   "execution_count": 332,
   "id": "af3794bd",
   "metadata": {},
   "outputs": [
    {
     "name": "stdout",
     "output_type": "stream",
     "text": [
      "MAE 3.655352187601038\n",
      "MSE 48.945660065139144\n",
      "RMSE 6.996117499380578\n",
      "R2_score 0.9062683045057104\n",
      "Model_Score 0.9062683045057104\n"
     ]
    },
    {
     "data": {
      "text/html": [
       "<div>\n",
       "<style scoped>\n",
       "    .dataframe tbody tr th:only-of-type {\n",
       "        vertical-align: middle;\n",
       "    }\n",
       "\n",
       "    .dataframe tbody tr th {\n",
       "        vertical-align: top;\n",
       "    }\n",
       "\n",
       "    .dataframe thead th {\n",
       "        text-align: right;\n",
       "    }\n",
       "</style>\n",
       "<table border=\"1\" class=\"dataframe\">\n",
       "  <thead>\n",
       "    <tr style=\"text-align: right;\">\n",
       "      <th></th>\n",
       "      <th>Model</th>\n",
       "      <th>R2</th>\n",
       "      <th>MAE</th>\n",
       "    </tr>\n",
       "  </thead>\n",
       "  <tbody>\n",
       "    <tr>\n",
       "      <th>5</th>\n",
       "      <td>XGB with GridSearch</td>\n",
       "      <td>0.906268</td>\n",
       "      <td>3.655352</td>\n",
       "    </tr>\n",
       "  </tbody>\n",
       "</table>\n",
       "</div>"
      ],
      "text/plain": [
       "                 Model        R2       MAE\n",
       "5  XGB with GridSearch  0.906268  3.655352"
      ]
     },
     "execution_count": 332,
     "metadata": {},
     "output_type": "execute_result"
    }
   ],
   "source": [
    "ypred_m6 = m6.predict(x_test_sc)\n",
    "maem6 = mean_absolute_error(y_test,ypred_m6)\n",
    "msem6 = mean_squared_error(y_test,ypred_m6)\n",
    "rmsem6 = np.sqrt(mean_squared_error(y_test,ypred_m6))\n",
    "r2sm6 = r2_score(y_test,ypred_m6)\n",
    "print('MAE',maem6)\n",
    "print('MSE',msem6)\n",
    "print('RMSE',rmsem6)\n",
    "print('R2_score',r2sm6)\n",
    "print('Model_Score',m6.score(x_test_sc,y_test))\n",
    "res6=pd.DataFrame({\"Model\":\"XGB with GridSearch\",\"R2\":r2sm6,\"MAE\":maem6},index=[5])\n",
    "res6"
   ]
  },
  {
   "cell_type": "markdown",
   "id": "26989408",
   "metadata": {},
   "source": [
    "### ADABOOST"
   ]
  },
  {
   "cell_type": "code",
   "execution_count": 333,
   "id": "62498abf",
   "metadata": {},
   "outputs": [],
   "source": [
    "from sklearn.ensemble import AdaBoostRegressor"
   ]
  },
  {
   "cell_type": "code",
   "execution_count": 408,
   "id": "0f6487b5",
   "metadata": {},
   "outputs": [
    {
     "data": {
      "text/plain": [
       "AdaBoostRegressor(base_estimator=DecisionTreeRegressor(max_depth=16,\n",
       "                                                       min_samples_split=20,\n",
       "                                                       random_state=42),\n",
       "                  n_estimators=100)"
      ]
     },
     "execution_count": 408,
     "metadata": {},
     "output_type": "execute_result"
    }
   ],
   "source": [
    "dt1 = DecisionTreeRegressor(max_depth=16,min_samples_split=20,random_state=42)  # decision stump\n",
    "m7 = AdaBoostRegressor(base_estimator=dt1,n_estimators=100)\n",
    "m7.fit(x_train_sc, y_train)"
   ]
  },
  {
   "cell_type": "code",
   "execution_count": 409,
   "id": "224bd60e",
   "metadata": {},
   "outputs": [
    {
     "name": "stdout",
     "output_type": "stream",
     "text": [
      "Training Score 0.9280626775911566\n",
      "Testing Score 0.9026863756048702\n"
     ]
    }
   ],
   "source": [
    "print(\"Training Score\",m7.score(x_train_sc,y_train))\n",
    "print(\"Testing Score\",m7.score(x_test_sc,y_test))"
   ]
  },
  {
   "cell_type": "code",
   "execution_count": 410,
   "id": "748b6671",
   "metadata": {},
   "outputs": [
    {
     "name": "stdout",
     "output_type": "stream",
     "text": [
      "MAE 3.964927528988111\n",
      "MSE 50.81610392549482\n",
      "RMSE 7.128541500580243\n",
      "R2_score 0.9026863756048702\n",
      "Model_Score 0.9026863756048702\n"
     ]
    },
    {
     "data": {
      "text/html": [
       "<div>\n",
       "<style scoped>\n",
       "    .dataframe tbody tr th:only-of-type {\n",
       "        vertical-align: middle;\n",
       "    }\n",
       "\n",
       "    .dataframe tbody tr th {\n",
       "        vertical-align: top;\n",
       "    }\n",
       "\n",
       "    .dataframe thead th {\n",
       "        text-align: right;\n",
       "    }\n",
       "</style>\n",
       "<table border=\"1\" class=\"dataframe\">\n",
       "  <thead>\n",
       "    <tr style=\"text-align: right;\">\n",
       "      <th></th>\n",
       "      <th>Model</th>\n",
       "      <th>R2</th>\n",
       "      <th>MAE</th>\n",
       "    </tr>\n",
       "  </thead>\n",
       "  <tbody>\n",
       "    <tr>\n",
       "      <th>6</th>\n",
       "      <td>ADABOOST</td>\n",
       "      <td>0.902686</td>\n",
       "      <td>3.964928</td>\n",
       "    </tr>\n",
       "  </tbody>\n",
       "</table>\n",
       "</div>"
      ],
      "text/plain": [
       "      Model        R2       MAE\n",
       "6  ADABOOST  0.902686  3.964928"
      ]
     },
     "execution_count": 410,
     "metadata": {},
     "output_type": "execute_result"
    }
   ],
   "source": [
    "ypred_m7 = m7.predict(x_test_sc)\n",
    "maem7 = mean_absolute_error(y_test,ypred_m7)\n",
    "msem7 = mean_squared_error(y_test,ypred_m7)\n",
    "rmsem7 = np.sqrt(mean_squared_error(y_test,ypred_m7))\n",
    "r2sm7 = r2_score(y_test,ypred_m7)\n",
    "print('MAE',maem7)\n",
    "print('MSE',msem7)\n",
    "print('RMSE',rmsem7)\n",
    "print('R2_score',r2sm7)\n",
    "print('Model_Score',m7.score(x_test_sc,y_test))\n",
    "res7=pd.DataFrame({\"Model\":\"ADABOOST\",\"R2\":r2sm7,\"MAE\":maem7},index=[6])\n",
    "res7"
   ]
  },
  {
   "cell_type": "markdown",
   "id": "3e439198",
   "metadata": {},
   "source": [
    "### ANN"
   ]
  },
  {
   "cell_type": "code",
   "execution_count": 411,
   "id": "1eceea50",
   "metadata": {},
   "outputs": [],
   "source": [
    "from tensorflow.keras.models import Sequential\n",
    "from tensorflow.keras.layers import Dense\n",
    "from tensorflow.keras.optimizers import Adam, SGD"
   ]
  },
  {
   "cell_type": "code",
   "execution_count": 412,
   "id": "699b3e84",
   "metadata": {},
   "outputs": [],
   "source": [
    "m8 = Sequential()\n",
    "m8.add(Dense(units=50,activation='relu',input_dim=4))   # H1 has 50 neurons\n",
    "m8.add(Dense(units=25,activation='relu'))      # H2 has 25 neurons\n",
    "m8.add(Dense(units=13,activation='relu'))      # H3 has 13 neurons\n",
    "m8.add(Dense(units=1,activation='linear'))    # Output layer has 1 neuron\n",
    "\n",
    "m8.compile(optimizer='adam',loss='mse',metrics=['mae'])"
   ]
  },
  {
   "cell_type": "code",
   "execution_count": 413,
   "id": "c225c656",
   "metadata": {},
   "outputs": [
    {
     "name": "stdout",
     "output_type": "stream",
     "text": [
      "Model: \"sequential\"\n",
      "_________________________________________________________________\n",
      " Layer (type)                Output Shape              Param #   \n",
      "=================================================================\n",
      " dense (Dense)               (None, 50)                250       \n",
      "                                                                 \n",
      " dense_1 (Dense)             (None, 25)                1275      \n",
      "                                                                 \n",
      " dense_2 (Dense)             (None, 13)                338       \n",
      "                                                                 \n",
      " dense_3 (Dense)             (None, 1)                 14        \n",
      "                                                                 \n",
      "=================================================================\n",
      "Total params: 1,877\n",
      "Trainable params: 1,877\n",
      "Non-trainable params: 0\n",
      "_________________________________________________________________\n"
     ]
    }
   ],
   "source": [
    "m8.summary()"
   ]
  },
  {
   "cell_type": "code",
   "execution_count": 414,
   "id": "a00a0d70",
   "metadata": {},
   "outputs": [
    {
     "name": "stdout",
     "output_type": "stream",
     "text": [
      "Epoch 1/40\n",
      "27/27 [==============================] - 4s 23ms/step - loss: 886.3987 - mae: 18.4857 - val_loss: 753.0792 - val_mae: 15.5242\n",
      "Epoch 2/40\n",
      "27/27 [==============================] - 0s 6ms/step - loss: 828.9337 - mae: 17.3167 - val_loss: 674.9072 - val_mae: 13.9601\n",
      "Epoch 3/40\n",
      "27/27 [==============================] - 0s 6ms/step - loss: 677.7286 - mae: 15.1956 - val_loss: 485.7670 - val_mae: 12.1691\n",
      "Epoch 4/40\n",
      "27/27 [==============================] - 0s 6ms/step - loss: 400.2131 - mae: 11.8757 - val_loss: 243.5635 - val_mae: 9.7230\n",
      "Epoch 5/40\n",
      "27/27 [==============================] - 0s 6ms/step - loss: 194.2580 - mae: 9.3784 - val_loss: 174.4109 - val_mae: 8.8370\n",
      "Epoch 6/40\n",
      "27/27 [==============================] - 0s 6ms/step - loss: 159.6580 - mae: 8.1645 - val_loss: 153.4462 - val_mae: 7.5891\n",
      "Epoch 7/40\n",
      "27/27 [==============================] - 0s 6ms/step - loss: 143.1046 - mae: 7.4579 - val_loss: 140.3955 - val_mae: 6.9655\n",
      "Epoch 8/40\n",
      "27/27 [==============================] - 0s 7ms/step - loss: 133.3957 - mae: 7.0000 - val_loss: 131.4210 - val_mae: 6.5653\n",
      "Epoch 9/40\n",
      "27/27 [==============================] - 0s 5ms/step - loss: 126.6760 - mae: 6.6949 - val_loss: 124.3357 - val_mae: 6.3386\n",
      "Epoch 10/40\n",
      "27/27 [==============================] - 0s 5ms/step - loss: 122.7258 - mae: 6.6558 - val_loss: 119.3982 - val_mae: 6.1499\n",
      "Epoch 11/40\n",
      "27/27 [==============================] - 0s 5ms/step - loss: 119.3658 - mae: 6.4457 - val_loss: 114.8713 - val_mae: 5.9813\n",
      "Epoch 12/40\n",
      "27/27 [==============================] - 0s 6ms/step - loss: 115.3455 - mae: 6.2800 - val_loss: 111.4674 - val_mae: 5.8711\n",
      "Epoch 13/40\n",
      "27/27 [==============================] - 0s 5ms/step - loss: 112.9156 - mae: 6.2688 - val_loss: 107.2370 - val_mae: 5.7863\n",
      "Epoch 14/40\n",
      "27/27 [==============================] - 0s 6ms/step - loss: 111.2283 - mae: 6.2297 - val_loss: 104.6159 - val_mae: 5.6671\n",
      "Epoch 15/40\n",
      "27/27 [==============================] - 0s 7ms/step - loss: 111.1750 - mae: 6.2294 - val_loss: 103.7390 - val_mae: 5.6144\n",
      "Epoch 16/40\n",
      "27/27 [==============================] - 0s 6ms/step - loss: 108.1169 - mae: 5.9998 - val_loss: 99.6323 - val_mae: 5.5180\n",
      "Epoch 17/40\n",
      "27/27 [==============================] - 0s 6ms/step - loss: 106.5288 - mae: 6.0490 - val_loss: 98.4075 - val_mae: 5.4752\n",
      "Epoch 18/40\n",
      "27/27 [==============================] - 0s 5ms/step - loss: 104.7148 - mae: 5.9712 - val_loss: 96.8350 - val_mae: 5.3940\n",
      "Epoch 19/40\n",
      "27/27 [==============================] - 0s 7ms/step - loss: 103.2878 - mae: 5.8407 - val_loss: 95.3778 - val_mae: 5.3398\n",
      "Epoch 20/40\n",
      "27/27 [==============================] - 0s 5ms/step - loss: 102.2840 - mae: 5.8383 - val_loss: 94.0726 - val_mae: 5.2853\n",
      "Epoch 21/40\n",
      "27/27 [==============================] - 0s 7ms/step - loss: 101.6196 - mae: 5.7722 - val_loss: 92.6990 - val_mae: 5.2509\n",
      "Epoch 22/40\n",
      "27/27 [==============================] - 0s 5ms/step - loss: 100.0859 - mae: 5.7853 - val_loss: 90.9502 - val_mae: 5.1660\n",
      "Epoch 23/40\n",
      "27/27 [==============================] - 0s 5ms/step - loss: 99.9098 - mae: 5.6651 - val_loss: 88.4021 - val_mae: 5.1377\n",
      "Epoch 24/40\n",
      "27/27 [==============================] - 0s 5ms/step - loss: 98.6170 - mae: 5.7628 - val_loss: 88.6665 - val_mae: 5.0852\n",
      "Epoch 25/40\n",
      "27/27 [==============================] - 0s 5ms/step - loss: 97.2950 - mae: 5.6176 - val_loss: 87.4524 - val_mae: 5.0499\n",
      "Epoch 26/40\n",
      "27/27 [==============================] - 0s 5ms/step - loss: 96.0298 - mae: 5.5883 - val_loss: 85.0038 - val_mae: 5.0125\n",
      "Epoch 27/40\n",
      "27/27 [==============================] - 0s 5ms/step - loss: 94.8842 - mae: 5.5770 - val_loss: 85.2963 - val_mae: 4.9889\n",
      "Epoch 28/40\n",
      "27/27 [==============================] - 0s 7ms/step - loss: 93.9448 - mae: 5.5584 - val_loss: 84.3870 - val_mae: 4.9388\n",
      "Epoch 29/40\n",
      "27/27 [==============================] - 0s 6ms/step - loss: 93.9248 - mae: 5.4719 - val_loss: 82.2660 - val_mae: 4.9370\n",
      "Epoch 30/40\n",
      "27/27 [==============================] - 0s 5ms/step - loss: 92.7065 - mae: 5.5184 - val_loss: 81.0350 - val_mae: 4.9551\n",
      "Epoch 31/40\n",
      "27/27 [==============================] - 0s 5ms/step - loss: 93.8288 - mae: 5.5902 - val_loss: 82.4760 - val_mae: 4.8917\n",
      "Epoch 32/40\n",
      "27/27 [==============================] - 0s 5ms/step - loss: 91.4275 - mae: 5.4797 - val_loss: 82.6855 - val_mae: 4.8960\n",
      "Epoch 33/40\n",
      "27/27 [==============================] - 0s 5ms/step - loss: 90.7921 - mae: 5.4234 - val_loss: 80.8845 - val_mae: 4.8956\n",
      "Epoch 34/40\n",
      "27/27 [==============================] - 0s 5ms/step - loss: 90.8396 - mae: 5.4923 - val_loss: 79.7738 - val_mae: 4.8505\n",
      "Epoch 35/40\n",
      "27/27 [==============================] - 0s 5ms/step - loss: 89.7528 - mae: 5.4049 - val_loss: 79.2334 - val_mae: 4.8221\n",
      "Epoch 36/40\n",
      "27/27 [==============================] - 0s 8ms/step - loss: 88.6534 - mae: 5.3943 - val_loss: 78.7126 - val_mae: 4.7531\n",
      "Epoch 37/40\n",
      "27/27 [==============================] - 0s 5ms/step - loss: 88.1376 - mae: 5.3440 - val_loss: 77.8712 - val_mae: 4.7279\n",
      "Epoch 38/40\n",
      "27/27 [==============================] - 0s 6ms/step - loss: 88.3271 - mae: 5.3760 - val_loss: 77.1860 - val_mae: 4.7198\n",
      "Epoch 39/40\n",
      "27/27 [==============================] - 0s 5ms/step - loss: 87.1445 - mae: 5.2561 - val_loss: 76.0505 - val_mae: 4.6875\n",
      "Epoch 40/40\n",
      "27/27 [==============================] - 0s 6ms/step - loss: 86.4828 - mae: 5.2483 - val_loss: 77.5484 - val_mae: 4.6436\n"
     ]
    }
   ],
   "source": [
    "h1 = m8.fit(x_train_sc,y_train,validation_data=(x_test_sc,y_test),epochs=40)"
   ]
  },
  {
   "cell_type": "code",
   "execution_count": 415,
   "id": "1a493936",
   "metadata": {},
   "outputs": [
    {
     "data": {
      "text/plain": [
       "{'loss': [886.3987426757812,\n",
       "  828.9337158203125,\n",
       "  677.7285766601562,\n",
       "  400.21307373046875,\n",
       "  194.25796508789062,\n",
       "  159.6580047607422,\n",
       "  143.10462951660156,\n",
       "  133.3957061767578,\n",
       "  126.67601776123047,\n",
       "  122.72582244873047,\n",
       "  119.36576843261719,\n",
       "  115.34549713134766,\n",
       "  112.91560363769531,\n",
       "  111.22830963134766,\n",
       "  111.17500305175781,\n",
       "  108.11685180664062,\n",
       "  106.52882385253906,\n",
       "  104.71478271484375,\n",
       "  103.28776550292969,\n",
       "  102.28400421142578,\n",
       "  101.61963653564453,\n",
       "  100.08589935302734,\n",
       "  99.90975952148438,\n",
       "  98.61698913574219,\n",
       "  97.29499053955078,\n",
       "  96.02983856201172,\n",
       "  94.88421630859375,\n",
       "  93.94482421875,\n",
       "  93.92475891113281,\n",
       "  92.70645141601562,\n",
       "  93.82878875732422,\n",
       "  91.42745971679688,\n",
       "  90.79212188720703,\n",
       "  90.8396224975586,\n",
       "  89.75275421142578,\n",
       "  88.65335083007812,\n",
       "  88.13762664794922,\n",
       "  88.32708740234375,\n",
       "  87.14447021484375,\n",
       "  86.48279571533203],\n",
       " 'mae': [18.48565101623535,\n",
       "  17.31667137145996,\n",
       "  15.195626258850098,\n",
       "  11.875706672668457,\n",
       "  9.37836742401123,\n",
       "  8.164491653442383,\n",
       "  7.457925319671631,\n",
       "  6.99995231628418,\n",
       "  6.694941520690918,\n",
       "  6.65579891204834,\n",
       "  6.44573450088501,\n",
       "  6.2799763679504395,\n",
       "  6.2687811851501465,\n",
       "  6.229684352874756,\n",
       "  6.229427337646484,\n",
       "  5.999790668487549,\n",
       "  6.04896879196167,\n",
       "  5.9712018966674805,\n",
       "  5.8407158851623535,\n",
       "  5.838282108306885,\n",
       "  5.772181510925293,\n",
       "  5.785284042358398,\n",
       "  5.665065765380859,\n",
       "  5.762750148773193,\n",
       "  5.617555141448975,\n",
       "  5.588283061981201,\n",
       "  5.576971530914307,\n",
       "  5.5584187507629395,\n",
       "  5.471928596496582,\n",
       "  5.5184221267700195,\n",
       "  5.590175151824951,\n",
       "  5.479724407196045,\n",
       "  5.423410415649414,\n",
       "  5.492344856262207,\n",
       "  5.404928684234619,\n",
       "  5.394256591796875,\n",
       "  5.344048500061035,\n",
       "  5.376033306121826,\n",
       "  5.256062984466553,\n",
       "  5.248331069946289],\n",
       " 'val_loss': [753.0792236328125,\n",
       "  674.9072265625,\n",
       "  485.76702880859375,\n",
       "  243.5634765625,\n",
       "  174.4109344482422,\n",
       "  153.44615173339844,\n",
       "  140.39549255371094,\n",
       "  131.4209747314453,\n",
       "  124.33568572998047,\n",
       "  119.39818572998047,\n",
       "  114.87129211425781,\n",
       "  111.46744537353516,\n",
       "  107.2370376586914,\n",
       "  104.61585998535156,\n",
       "  103.73902893066406,\n",
       "  99.63225555419922,\n",
       "  98.4074935913086,\n",
       "  96.83502197265625,\n",
       "  95.37776184082031,\n",
       "  94.07264709472656,\n",
       "  92.6989974975586,\n",
       "  90.9502182006836,\n",
       "  88.402099609375,\n",
       "  88.66648864746094,\n",
       "  87.45240020751953,\n",
       "  85.00376892089844,\n",
       "  85.2962646484375,\n",
       "  84.38695526123047,\n",
       "  82.26603698730469,\n",
       "  81.03500366210938,\n",
       "  82.4759750366211,\n",
       "  82.68545532226562,\n",
       "  80.884521484375,\n",
       "  79.77381134033203,\n",
       "  79.2333984375,\n",
       "  78.71263122558594,\n",
       "  77.87122344970703,\n",
       "  77.18599700927734,\n",
       "  76.05052947998047,\n",
       "  77.54835510253906],\n",
       " 'val_mae': [15.52421760559082,\n",
       "  13.960057258605957,\n",
       "  12.169065475463867,\n",
       "  9.72303581237793,\n",
       "  8.836992263793945,\n",
       "  7.589051723480225,\n",
       "  6.965498447418213,\n",
       "  6.565321922302246,\n",
       "  6.3386006355285645,\n",
       "  6.149862766265869,\n",
       "  5.98129940032959,\n",
       "  5.871076583862305,\n",
       "  5.786317825317383,\n",
       "  5.667139053344727,\n",
       "  5.614381790161133,\n",
       "  5.518037796020508,\n",
       "  5.475191593170166,\n",
       "  5.394045829772949,\n",
       "  5.339813709259033,\n",
       "  5.2852678298950195,\n",
       "  5.250900745391846,\n",
       "  5.166047096252441,\n",
       "  5.1377458572387695,\n",
       "  5.085168361663818,\n",
       "  5.049934387207031,\n",
       "  5.012482166290283,\n",
       "  4.98893928527832,\n",
       "  4.938791751861572,\n",
       "  4.937041759490967,\n",
       "  4.9551286697387695,\n",
       "  4.891744136810303,\n",
       "  4.895984649658203,\n",
       "  4.895575046539307,\n",
       "  4.8505401611328125,\n",
       "  4.822074890136719,\n",
       "  4.753119468688965,\n",
       "  4.72790002822876,\n",
       "  4.719796180725098,\n",
       "  4.68754243850708,\n",
       "  4.64363431930542]}"
      ]
     },
     "execution_count": 415,
     "metadata": {},
     "output_type": "execute_result"
    }
   ],
   "source": [
    "h1.history"
   ]
  },
  {
   "cell_type": "code",
   "execution_count": 416,
   "id": "3206b208",
   "metadata": {},
   "outputs": [
    {
     "data": {
      "text/html": [
       "<div>\n",
       "<style scoped>\n",
       "    .dataframe tbody tr th:only-of-type {\n",
       "        vertical-align: middle;\n",
       "    }\n",
       "\n",
       "    .dataframe tbody tr th {\n",
       "        vertical-align: top;\n",
       "    }\n",
       "\n",
       "    .dataframe thead th {\n",
       "        text-align: right;\n",
       "    }\n",
       "</style>\n",
       "<table border=\"1\" class=\"dataframe\">\n",
       "  <thead>\n",
       "    <tr style=\"text-align: right;\">\n",
       "      <th></th>\n",
       "      <th>loss</th>\n",
       "      <th>mae</th>\n",
       "      <th>val_loss</th>\n",
       "      <th>val_mae</th>\n",
       "      <th>Epochs</th>\n",
       "    </tr>\n",
       "  </thead>\n",
       "  <tbody>\n",
       "    <tr>\n",
       "      <th>35</th>\n",
       "      <td>88.653351</td>\n",
       "      <td>5.394257</td>\n",
       "      <td>78.712631</td>\n",
       "      <td>4.753119</td>\n",
       "      <td>35</td>\n",
       "    </tr>\n",
       "    <tr>\n",
       "      <th>36</th>\n",
       "      <td>88.137627</td>\n",
       "      <td>5.344049</td>\n",
       "      <td>77.871223</td>\n",
       "      <td>4.727900</td>\n",
       "      <td>36</td>\n",
       "    </tr>\n",
       "    <tr>\n",
       "      <th>37</th>\n",
       "      <td>88.327087</td>\n",
       "      <td>5.376033</td>\n",
       "      <td>77.185997</td>\n",
       "      <td>4.719796</td>\n",
       "      <td>37</td>\n",
       "    </tr>\n",
       "    <tr>\n",
       "      <th>38</th>\n",
       "      <td>87.144470</td>\n",
       "      <td>5.256063</td>\n",
       "      <td>76.050529</td>\n",
       "      <td>4.687542</td>\n",
       "      <td>38</td>\n",
       "    </tr>\n",
       "    <tr>\n",
       "      <th>39</th>\n",
       "      <td>86.482796</td>\n",
       "      <td>5.248331</td>\n",
       "      <td>77.548355</td>\n",
       "      <td>4.643634</td>\n",
       "      <td>39</td>\n",
       "    </tr>\n",
       "  </tbody>\n",
       "</table>\n",
       "</div>"
      ],
      "text/plain": [
       "         loss       mae   val_loss   val_mae  Epochs\n",
       "35  88.653351  5.394257  78.712631  4.753119      35\n",
       "36  88.137627  5.344049  77.871223  4.727900      36\n",
       "37  88.327087  5.376033  77.185997  4.719796      37\n",
       "38  87.144470  5.256063  76.050529  4.687542      38\n",
       "39  86.482796  5.248331  77.548355  4.643634      39"
      ]
     },
     "execution_count": 416,
     "metadata": {},
     "output_type": "execute_result"
    }
   ],
   "source": [
    "r8 = pd.DataFrame(h1.history)\n",
    "r8['Epochs'] = h1.epoch\n",
    "r8.tail()"
   ]
  },
  {
   "cell_type": "markdown",
   "id": "6d486827",
   "metadata": {},
   "source": [
    "#### Inference: The loss function and MAE for both train and test are decreasing successively with each epoch"
   ]
  },
  {
   "cell_type": "code",
   "execution_count": 417,
   "id": "2670310f",
   "metadata": {},
   "outputs": [
    {
     "data": {
      "image/png": "[encoded data removed]",
      "text/plain": [
       "<Figure size 432x288 with 1 Axes>"
      ]
     },
     "metadata": {
      "needs_background": "light"
     },
     "output_type": "display_data"
    }
   ],
   "source": [
    "plt.plot(r8['Epochs'],r8['loss'],label='Training Loss')\n",
    "plt.plot(r8['Epochs'],r8['val_loss'],label='Testing Loss')\n",
    "plt.title('Epochs vs Loss')\n",
    "plt.xlabel('Epochs')\n",
    "plt.ylabel('Loss')\n",
    "plt.grid()\n",
    "plt.legend()\n",
    "plt.show()"
   ]
  },
  {
   "cell_type": "code",
   "execution_count": 418,
   "id": "ecc2fe4a",
   "metadata": {},
   "outputs": [
    {
     "data": {
      "image/png": "[encoded data removed]",
      "text/plain": [
       "<Figure size 432x288 with 1 Axes>"
      ]
     },
     "metadata": {
      "needs_background": "light"
     },
     "output_type": "display_data"
    }
   ],
   "source": [
    "plt.plot(r8['Epochs'],r8['mae'],label='Training mae')\n",
    "plt.plot(r8['Epochs'],r8['val_mae'],label='Testing mae')\n",
    "plt.title('Epochs vs MAE')\n",
    "plt.xlabel('Epochs')\n",
    "plt.ylabel('MAE')\n",
    "plt.grid()\n",
    "plt.legend()\n",
    "plt.show()"
   ]
  },
  {
   "cell_type": "code",
   "execution_count": 420,
   "id": "cea158e1",
   "metadata": {},
   "outputs": [
    {
     "name": "stdout",
     "output_type": "stream",
     "text": [
      "MAE 4.643634468885302\n",
      "MSE 77.54834876486703\n",
      "RMSE 8.806154028000364\n",
      "R2_score 0.851493713582779\n"
     ]
    },
    {
     "data": {
      "text/html": [
       "<div>\n",
       "<style scoped>\n",
       "    .dataframe tbody tr th:only-of-type {\n",
       "        vertical-align: middle;\n",
       "    }\n",
       "\n",
       "    .dataframe tbody tr th {\n",
       "        vertical-align: top;\n",
       "    }\n",
       "\n",
       "    .dataframe thead th {\n",
       "        text-align: right;\n",
       "    }\n",
       "</style>\n",
       "<table border=\"1\" class=\"dataframe\">\n",
       "  <thead>\n",
       "    <tr style=\"text-align: right;\">\n",
       "      <th></th>\n",
       "      <th>Model</th>\n",
       "      <th>R2</th>\n",
       "      <th>MAE</th>\n",
       "    </tr>\n",
       "  </thead>\n",
       "  <tbody>\n",
       "    <tr>\n",
       "      <th>7</th>\n",
       "      <td>ANN</td>\n",
       "      <td>0.851494</td>\n",
       "      <td>4.643634</td>\n",
       "    </tr>\n",
       "  </tbody>\n",
       "</table>\n",
       "</div>"
      ],
      "text/plain": [
       "  Model        R2       MAE\n",
       "7   ANN  0.851494  4.643634"
      ]
     },
     "execution_count": 420,
     "metadata": {},
     "output_type": "execute_result"
    }
   ],
   "source": [
    "ypred_m8 = m8.predict(x_test_sc)\n",
    "maem8 = mean_absolute_error(y_test,ypred_m8)\n",
    "msem8 = mean_squared_error(y_test,ypred_m8)\n",
    "rmsem8 = np.sqrt(mean_squared_error(y_test,ypred_m8))\n",
    "r2sm8 = r2_score(y_test,ypred_m8)\n",
    "print('MAE',maem8)\n",
    "print('MSE',msem8)\n",
    "print('RMSE',rmsem8)\n",
    "print('R2_score',r2sm8)\n",
    "res8=pd.DataFrame({\"Model\":\"ANN\",\"R2\":r2sm8,\"MAE\":maem8},index=[7])\n",
    "res8"
   ]
  },
  {
   "cell_type": "markdown",
   "id": "251621ed",
   "metadata": {},
   "source": [
    "## Evaluation"
   ]
  },
  {
   "cell_type": "markdown",
   "id": "a6993d33",
   "metadata": {},
   "source": [
    "### Tabulated Result of 11 Models\n",
    "#### Conclusion : \n",
    "* `We can conclude from the below tabulated result that XGBOOST is the best model as it has the most stable values for R2 and MAE. Hence, it is most suited for House Price Prediction on Makaan.com`"
   ]
  },
  {
   "cell_type": "code",
   "execution_count": 423,
   "id": "5678b311",
   "metadata": {},
   "outputs": [
    {
     "data": {
      "text/html": [
       "<div>\n",
       "<style scoped>\n",
       "    .dataframe tbody tr th:only-of-type {\n",
       "        vertical-align: middle;\n",
       "    }\n",
       "\n",
       "    .dataframe tbody tr th {\n",
       "        vertical-align: top;\n",
       "    }\n",
       "\n",
       "    .dataframe thead th {\n",
       "        text-align: right;\n",
       "    }\n",
       "</style>\n",
       "<table border=\"1\" class=\"dataframe\">\n",
       "  <thead>\n",
       "    <tr style=\"text-align: right;\">\n",
       "      <th></th>\n",
       "      <th>Model</th>\n",
       "      <th>R2</th>\n",
       "      <th>MAE</th>\n",
       "    </tr>\n",
       "  </thead>\n",
       "  <tbody>\n",
       "    <tr>\n",
       "      <th>4</th>\n",
       "      <td>XGBOOST</td>\n",
       "      <td>0.910716</td>\n",
       "      <td>3.525683</td>\n",
       "    </tr>\n",
       "    <tr>\n",
       "      <th>3</th>\n",
       "      <td>RF with GridSearch</td>\n",
       "      <td>0.908001</td>\n",
       "      <td>3.743909</td>\n",
       "    </tr>\n",
       "    <tr>\n",
       "      <th>5</th>\n",
       "      <td>XGB with GridSearch</td>\n",
       "      <td>0.906268</td>\n",
       "      <td>3.655352</td>\n",
       "    </tr>\n",
       "    <tr>\n",
       "      <th>6</th>\n",
       "      <td>ADABOOST</td>\n",
       "      <td>0.902686</td>\n",
       "      <td>3.964928</td>\n",
       "    </tr>\n",
       "    <tr>\n",
       "      <th>2</th>\n",
       "      <td>Random Forest</td>\n",
       "      <td>0.901993</td>\n",
       "      <td>3.834794</td>\n",
       "    </tr>\n",
       "    <tr>\n",
       "      <th>1</th>\n",
       "      <td>Decision Tree</td>\n",
       "      <td>0.871499</td>\n",
       "      <td>4.163495</td>\n",
       "    </tr>\n",
       "    <tr>\n",
       "      <th>7</th>\n",
       "      <td>ANN</td>\n",
       "      <td>0.851494</td>\n",
       "      <td>4.643634</td>\n",
       "    </tr>\n",
       "    <tr>\n",
       "      <th>0</th>\n",
       "      <td>Linear Regression</td>\n",
       "      <td>0.773489</td>\n",
       "      <td>6.449354</td>\n",
       "    </tr>\n",
       "    <tr>\n",
       "      <th>8</th>\n",
       "      <td>Ridge</td>\n",
       "      <td>0.773459</td>\n",
       "      <td>6.450873</td>\n",
       "    </tr>\n",
       "    <tr>\n",
       "      <th>10</th>\n",
       "      <td>SGDRegressor</td>\n",
       "      <td>0.773282</td>\n",
       "      <td>6.432208</td>\n",
       "    </tr>\n",
       "    <tr>\n",
       "      <th>9</th>\n",
       "      <td>Lasso</td>\n",
       "      <td>0.772491</td>\n",
       "      <td>6.483235</td>\n",
       "    </tr>\n",
       "  </tbody>\n",
       "</table>\n",
       "</div>"
      ],
      "text/plain": [
       "                  Model        R2       MAE\n",
       "4               XGBOOST  0.910716  3.525683\n",
       "3    RF with GridSearch  0.908001  3.743909\n",
       "5   XGB with GridSearch  0.906268  3.655352\n",
       "6              ADABOOST  0.902686  3.964928\n",
       "2         Random Forest  0.901993  3.834794\n",
       "1         Decision Tree  0.871499  4.163495\n",
       "7                   ANN  0.851494  4.643634\n",
       "0     Linear Regression  0.773489  6.449354\n",
       "8                 Ridge  0.773459  6.450873\n",
       "10         SGDRegressor  0.773282  6.432208\n",
       "9                 Lasso  0.772491  6.483235"
      ]
     },
     "execution_count": 423,
     "metadata": {},
     "output_type": "execute_result"
    }
   ],
   "source": [
    "eval_table = pd.concat([res1,res2,res3,res4,res5,res6,res7,res8,res9,res10,res11])\n",
    "final_result = eval_table.sort_values(by=['R2'], ascending=False)\n",
    "final_result"
   ]
  }
 ],
 "metadata": {
  "kernelspec": {
   "display_name": "Python 3 (ipykernel)",
   "language": "python",
   "name": "python3"
  },
  "language_info": {
   "codemirror_mode": {
    "name": "ipython",
    "version": 3
   },
   "file_extension": ".py",
   "mimetype": "text/x-python",
   "name": "python",
   "nbconvert_exporter": "python",
   "pygments_lexer": "ipython3",
   "version": "3.9.7"
  }
 },
 "nbformat": 4,
 "nbformat_minor": 5
}
